{
  "cells": [
    {
      "cell_type": "markdown",
      "metadata": {
        "id": "view-in-github",
        "colab_type": "text"
      },
      "source": [
        "<a href=\"https://colab.research.google.com/github/Matrix7043/CODEWAY/blob/main/movie_review.ipynb\" target=\"_parent\"><img src=\"https://colab.research.google.com/assets/colab-badge.svg\" alt=\"Open In Colab\"/></a>"
      ]
    },
    {
      "cell_type": "code",
      "execution_count": null,
      "id": "2e392669",
      "metadata": {
        "_cell_guid": "b1076dfc-b9ad-4769-8c92-a6c4dae69d19",
        "_uuid": "8f2839f25d086af736a60e9eeb907d3b93b6e0e5",
        "execution": {
          "iopub.execute_input": "2024-04-09T07:12:40.594176Z",
          "iopub.status.busy": "2024-04-09T07:12:40.593333Z",
          "iopub.status.idle": "2024-04-09T07:13:01.499829Z",
          "shell.execute_reply": "2024-04-09T07:13:01.498392Z"
        },
        "papermill": {
          "duration": 20.919895,
          "end_time": "2024-04-09T07:13:01.503881",
          "exception": false,
          "start_time": "2024-04-09T07:12:40.583986",
          "status": "completed"
        },
        "tags": [],
        "id": "2e392669",
        "outputId": "40ca3eb3-dd3d-4ef7-bdf4-42bbfafb040c"
      },
      "outputs": [
        {
          "name": "stderr",
          "output_type": "stream",
          "text": [
            "2024-04-09 07:12:44.283571: E external/local_xla/xla/stream_executor/cuda/cuda_dnn.cc:9261] Unable to register cuDNN factory: Attempting to register factory for plugin cuDNN when one has already been registered\n",
            "2024-04-09 07:12:44.283786: E external/local_xla/xla/stream_executor/cuda/cuda_fft.cc:607] Unable to register cuFFT factory: Attempting to register factory for plugin cuFFT when one has already been registered\n",
            "2024-04-09 07:12:44.476182: E external/local_xla/xla/stream_executor/cuda/cuda_blas.cc:1515] Unable to register cuBLAS factory: Attempting to register factory for plugin cuBLAS when one has already been registered\n"
          ]
        }
      ],
      "source": [
        "import pandas as pd\n",
        "import tensorflow as tf\n",
        "import matplotlib.pyplot as plt\n",
        "import numpy as np\n",
        "import seaborn as sns\n",
        "import re  # used for pattern matching and text manipulation\n",
        "import string\n",
        "import nltk #a powerful library for working with human language data.\n",
        "from nltk.corpus import stopwords #for cleaning\n",
        "from nltk.stem import LancasterStemmer ##for cleaning\n",
        "from sklearn.feature_extraction.text import TfidfVectorizer\n",
        "from sklearn.svm import SVC\n",
        "from sklearn.model_selection import train_test_split\n",
        "from sklearn.metrics import accuracy_score"
      ]
    },
    {
      "cell_type": "code",
      "execution_count": null,
      "id": "ab84fb54",
      "metadata": {
        "execution": {
          "iopub.execute_input": "2024-04-09T07:13:01.523271Z",
          "iopub.status.busy": "2024-04-09T07:13:01.520561Z",
          "iopub.status.idle": "2024-04-09T07:13:02.836735Z",
          "shell.execute_reply": "2024-04-09T07:13:02.834585Z"
        },
        "papermill": {
          "duration": 1.32823,
          "end_time": "2024-04-09T07:13:02.839966",
          "exception": false,
          "start_time": "2024-04-09T07:13:01.511736",
          "status": "completed"
        },
        "tags": [],
        "id": "ab84fb54"
      },
      "outputs": [],
      "source": [
        "train_path= \"/kaggle/input/genre-classification-dataset-imdb/Genre Classification Dataset/train_data.txt\"\n",
        "train_data = pd.read_csv(train_path, sep=\":::\", names=[\"Title\", \"Genre\", \"Description\"], engine=\"python\")"
      ]
    },
    {
      "cell_type": "code",
      "execution_count": null,
      "id": "b63ccbf3",
      "metadata": {
        "execution": {
          "iopub.execute_input": "2024-04-09T07:13:02.857013Z",
          "iopub.status.busy": "2024-04-09T07:13:02.856510Z",
          "iopub.status.idle": "2024-04-09T07:13:04.331895Z",
          "shell.execute_reply": "2024-04-09T07:13:04.330797Z"
        },
        "papermill": {
          "duration": 1.488309,
          "end_time": "2024-04-09T07:13:04.335740",
          "exception": false,
          "start_time": "2024-04-09T07:13:02.847431",
          "status": "completed"
        },
        "tags": [],
        "id": "b63ccbf3"
      },
      "outputs": [],
      "source": [
        "test_path = \"/kaggle/input/genre-classification-dataset-imdb/Genre Classification Dataset/test_data_solution.txt\"\n",
        "test_data = pd.read_csv(test_path, sep=\":::\", names=[\"Title\", \"Genre\", \"Description\"], engine=\"python\")"
      ]
    },
    {
      "cell_type": "code",
      "execution_count": null,
      "id": "252ef0f8",
      "metadata": {
        "execution": {
          "iopub.execute_input": "2024-04-09T07:13:04.354290Z",
          "iopub.status.busy": "2024-04-09T07:13:04.353769Z",
          "iopub.status.idle": "2024-04-09T07:13:04.379153Z",
          "shell.execute_reply": "2024-04-09T07:13:04.377769Z"
        },
        "papermill": {
          "duration": 0.038224,
          "end_time": "2024-04-09T07:13:04.382048",
          "exception": false,
          "start_time": "2024-04-09T07:13:04.343824",
          "status": "completed"
        },
        "tags": [],
        "id": "252ef0f8",
        "outputId": "76e41617-2242-407c-cc53-f775ffa226fe"
      },
      "outputs": [
        {
          "data": {
            "text/html": [
              "<div>\n",
              "<style scoped>\n",
              "    .dataframe tbody tr th:only-of-type {\n",
              "        vertical-align: middle;\n",
              "    }\n",
              "\n",
              "    .dataframe tbody tr th {\n",
              "        vertical-align: top;\n",
              "    }\n",
              "\n",
              "    .dataframe thead th {\n",
              "        text-align: right;\n",
              "    }\n",
              "</style>\n",
              "<table border=\"1\" class=\"dataframe\">\n",
              "  <thead>\n",
              "    <tr style=\"text-align: right;\">\n",
              "      <th></th>\n",
              "      <th>Title</th>\n",
              "      <th>Genre</th>\n",
              "      <th>Description</th>\n",
              "    </tr>\n",
              "  </thead>\n",
              "  <tbody>\n",
              "    <tr>\n",
              "      <th>1</th>\n",
              "      <td>Oscar et la dame rose (2009)</td>\n",
              "      <td>drama</td>\n",
              "      <td>Listening in to a conversation between his do...</td>\n",
              "    </tr>\n",
              "    <tr>\n",
              "      <th>2</th>\n",
              "      <td>Cupid (1997)</td>\n",
              "      <td>thriller</td>\n",
              "      <td>A brother and sister with a past incestuous r...</td>\n",
              "    </tr>\n",
              "    <tr>\n",
              "      <th>3</th>\n",
              "      <td>Young, Wild and Wonderful (1980)</td>\n",
              "      <td>adult</td>\n",
              "      <td>As the bus empties the students for their fie...</td>\n",
              "    </tr>\n",
              "    <tr>\n",
              "      <th>4</th>\n",
              "      <td>The Secret Sin (1915)</td>\n",
              "      <td>drama</td>\n",
              "      <td>To help their unemployed father make ends mee...</td>\n",
              "    </tr>\n",
              "    <tr>\n",
              "      <th>5</th>\n",
              "      <td>The Unrecovered (2007)</td>\n",
              "      <td>drama</td>\n",
              "      <td>The film's title refers not only to the un-re...</td>\n",
              "    </tr>\n",
              "    <tr>\n",
              "      <th>...</th>\n",
              "      <td>...</td>\n",
              "      <td>...</td>\n",
              "      <td>...</td>\n",
              "    </tr>\n",
              "    <tr>\n",
              "      <th>54210</th>\n",
              "      <td>\"Bonino\" (1953)</td>\n",
              "      <td>comedy</td>\n",
              "      <td>This short-lived NBC live sitcom centered on ...</td>\n",
              "    </tr>\n",
              "    <tr>\n",
              "      <th>54211</th>\n",
              "      <td>Dead Girls Don't Cry (????)</td>\n",
              "      <td>horror</td>\n",
              "      <td>The NEXT Generation of EXPLOITATION. The sist...</td>\n",
              "    </tr>\n",
              "    <tr>\n",
              "      <th>54212</th>\n",
              "      <td>Ronald Goedemondt: Ze bestaan echt (2008)</td>\n",
              "      <td>documentary</td>\n",
              "      <td>Ze bestaan echt, is a stand-up comedy about g...</td>\n",
              "    </tr>\n",
              "    <tr>\n",
              "      <th>54213</th>\n",
              "      <td>Make Your Own Bed (1944)</td>\n",
              "      <td>comedy</td>\n",
              "      <td>Walter and Vivian live in the country and hav...</td>\n",
              "    </tr>\n",
              "    <tr>\n",
              "      <th>54214</th>\n",
              "      <td>Nature's Fury: Storm of the Century (2006)</td>\n",
              "      <td>history</td>\n",
              "      <td>On Labor Day Weekend, 1935, the most intense ...</td>\n",
              "    </tr>\n",
              "  </tbody>\n",
              "</table>\n",
              "<p>54214 rows × 3 columns</p>\n",
              "</div>"
            ],
            "text/plain": [
              "                                              Title          Genre  \\\n",
              "1                     Oscar et la dame rose (2009)          drama    \n",
              "2                                     Cupid (1997)       thriller    \n",
              "3                 Young, Wild and Wonderful (1980)          adult    \n",
              "4                            The Secret Sin (1915)          drama    \n",
              "5                           The Unrecovered (2007)          drama    \n",
              "...                                             ...            ...   \n",
              "54210                              \"Bonino\" (1953)         comedy    \n",
              "54211                  Dead Girls Don't Cry (????)         horror    \n",
              "54212    Ronald Goedemondt: Ze bestaan echt (2008)    documentary    \n",
              "54213                     Make Your Own Bed (1944)         comedy    \n",
              "54214   Nature's Fury: Storm of the Century (2006)        history    \n",
              "\n",
              "                                             Description  \n",
              "1       Listening in to a conversation between his do...  \n",
              "2       A brother and sister with a past incestuous r...  \n",
              "3       As the bus empties the students for their fie...  \n",
              "4       To help their unemployed father make ends mee...  \n",
              "5       The film's title refers not only to the un-re...  \n",
              "...                                                  ...  \n",
              "54210   This short-lived NBC live sitcom centered on ...  \n",
              "54211   The NEXT Generation of EXPLOITATION. The sist...  \n",
              "54212   Ze bestaan echt, is a stand-up comedy about g...  \n",
              "54213   Walter and Vivian live in the country and hav...  \n",
              "54214   On Labor Day Weekend, 1935, the most intense ...  \n",
              "\n",
              "[54214 rows x 3 columns]"
            ]
          },
          "execution_count": 4,
          "metadata": {},
          "output_type": "execute_result"
        }
      ],
      "source": [
        "train_data"
      ]
    },
    {
      "cell_type": "code",
      "execution_count": null,
      "id": "fe811b78",
      "metadata": {
        "execution": {
          "iopub.execute_input": "2024-04-09T07:13:04.399533Z",
          "iopub.status.busy": "2024-04-09T07:13:04.399041Z",
          "iopub.status.idle": "2024-04-09T07:13:04.416002Z",
          "shell.execute_reply": "2024-04-09T07:13:04.414735Z"
        },
        "papermill": {
          "duration": 0.029042,
          "end_time": "2024-04-09T07:13:04.418988",
          "exception": false,
          "start_time": "2024-04-09T07:13:04.389946",
          "status": "completed"
        },
        "tags": [],
        "id": "fe811b78",
        "outputId": "de46d3fe-5c18-482b-8d60-b8b270f702b3"
      },
      "outputs": [
        {
          "data": {
            "text/html": [
              "<div>\n",
              "<style scoped>\n",
              "    .dataframe tbody tr th:only-of-type {\n",
              "        vertical-align: middle;\n",
              "    }\n",
              "\n",
              "    .dataframe tbody tr th {\n",
              "        vertical-align: top;\n",
              "    }\n",
              "\n",
              "    .dataframe thead th {\n",
              "        text-align: right;\n",
              "    }\n",
              "</style>\n",
              "<table border=\"1\" class=\"dataframe\">\n",
              "  <thead>\n",
              "    <tr style=\"text-align: right;\">\n",
              "      <th></th>\n",
              "      <th>Title</th>\n",
              "      <th>Genre</th>\n",
              "      <th>Description</th>\n",
              "    </tr>\n",
              "  </thead>\n",
              "  <tbody>\n",
              "    <tr>\n",
              "      <th>1</th>\n",
              "      <td>Edgar's Lunch (1998)</td>\n",
              "      <td>thriller</td>\n",
              "      <td>L.R. Brane loves his life - his car, his apar...</td>\n",
              "    </tr>\n",
              "    <tr>\n",
              "      <th>2</th>\n",
              "      <td>La guerra de papá (1977)</td>\n",
              "      <td>comedy</td>\n",
              "      <td>Spain, March 1964: Quico is a very naughty ch...</td>\n",
              "    </tr>\n",
              "    <tr>\n",
              "      <th>3</th>\n",
              "      <td>Off the Beaten Track (2010)</td>\n",
              "      <td>documentary</td>\n",
              "      <td>One year in the life of Albin and his family ...</td>\n",
              "    </tr>\n",
              "    <tr>\n",
              "      <th>4</th>\n",
              "      <td>Meu Amigo Hindu (2015)</td>\n",
              "      <td>drama</td>\n",
              "      <td>His father has died, he hasn't spoken with hi...</td>\n",
              "    </tr>\n",
              "    <tr>\n",
              "      <th>5</th>\n",
              "      <td>Er nu zhai (1955)</td>\n",
              "      <td>drama</td>\n",
              "      <td>Before he was known internationally as a mart...</td>\n",
              "    </tr>\n",
              "    <tr>\n",
              "      <th>...</th>\n",
              "      <td>...</td>\n",
              "      <td>...</td>\n",
              "      <td>...</td>\n",
              "    </tr>\n",
              "    <tr>\n",
              "      <th>54196</th>\n",
              "      <td>\"Tales of Light &amp; Dark\" (2013)</td>\n",
              "      <td>horror</td>\n",
              "      <td>Covering multiple genres, Tales of Light &amp; Da...</td>\n",
              "    </tr>\n",
              "    <tr>\n",
              "      <th>54197</th>\n",
              "      <td>Der letzte Mohikaner (1965)</td>\n",
              "      <td>western</td>\n",
              "      <td>As Alice and Cora Munro attempt to find their...</td>\n",
              "    </tr>\n",
              "    <tr>\n",
              "      <th>54198</th>\n",
              "      <td>Oliver Twink (2007)</td>\n",
              "      <td>adult</td>\n",
              "      <td>A movie 169 years in the making. Oliver Twist...</td>\n",
              "    </tr>\n",
              "    <tr>\n",
              "      <th>54199</th>\n",
              "      <td>Slipstream (1973)</td>\n",
              "      <td>drama</td>\n",
              "      <td>Popular, but mysterious rock D.J Mike Mallard...</td>\n",
              "    </tr>\n",
              "    <tr>\n",
              "      <th>54200</th>\n",
              "      <td>Curitiba Zero Grau (2010)</td>\n",
              "      <td>drama</td>\n",
              "      <td>Curitiba is a city in movement, with rhythms ...</td>\n",
              "    </tr>\n",
              "  </tbody>\n",
              "</table>\n",
              "<p>54200 rows × 3 columns</p>\n",
              "</div>"
            ],
            "text/plain": [
              "                                  Title          Genre  \\\n",
              "1                 Edgar's Lunch (1998)       thriller    \n",
              "2             La guerra de papá (1977)         comedy    \n",
              "3          Off the Beaten Track (2010)    documentary    \n",
              "4               Meu Amigo Hindu (2015)          drama    \n",
              "5                    Er nu zhai (1955)          drama    \n",
              "...                                 ...            ...   \n",
              "54196   \"Tales of Light & Dark\" (2013)         horror    \n",
              "54197      Der letzte Mohikaner (1965)        western    \n",
              "54198              Oliver Twink (2007)          adult    \n",
              "54199                Slipstream (1973)          drama    \n",
              "54200        Curitiba Zero Grau (2010)          drama    \n",
              "\n",
              "                                             Description  \n",
              "1       L.R. Brane loves his life - his car, his apar...  \n",
              "2       Spain, March 1964: Quico is a very naughty ch...  \n",
              "3       One year in the life of Albin and his family ...  \n",
              "4       His father has died, he hasn't spoken with hi...  \n",
              "5       Before he was known internationally as a mart...  \n",
              "...                                                  ...  \n",
              "54196   Covering multiple genres, Tales of Light & Da...  \n",
              "54197   As Alice and Cora Munro attempt to find their...  \n",
              "54198   A movie 169 years in the making. Oliver Twist...  \n",
              "54199   Popular, but mysterious rock D.J Mike Mallard...  \n",
              "54200   Curitiba is a city in movement, with rhythms ...  \n",
              "\n",
              "[54200 rows x 3 columns]"
            ]
          },
          "execution_count": 5,
          "metadata": {},
          "output_type": "execute_result"
        }
      ],
      "source": [
        "test_data"
      ]
    },
    {
      "cell_type": "code",
      "execution_count": null,
      "id": "a84e625b",
      "metadata": {
        "execution": {
          "iopub.execute_input": "2024-04-09T07:13:04.439628Z",
          "iopub.status.busy": "2024-04-09T07:13:04.439067Z",
          "iopub.status.idle": "2024-04-09T07:13:04.447164Z",
          "shell.execute_reply": "2024-04-09T07:13:04.444756Z"
        },
        "papermill": {
          "duration": 0.023438,
          "end_time": "2024-04-09T07:13:04.450586",
          "exception": false,
          "start_time": "2024-04-09T07:13:04.427148",
          "status": "completed"
        },
        "tags": [],
        "id": "a84e625b"
      },
      "outputs": [],
      "source": [
        "n = 500"
      ]
    },
    {
      "cell_type": "code",
      "execution_count": null,
      "id": "dbfde608",
      "metadata": {
        "execution": {
          "iopub.execute_input": "2024-04-09T07:13:04.470649Z",
          "iopub.status.busy": "2024-04-09T07:13:04.470168Z",
          "iopub.status.idle": "2024-04-09T07:14:14.168548Z",
          "shell.execute_reply": "2024-04-09T07:14:14.167190Z"
        },
        "papermill": {
          "duration": 69.712595,
          "end_time": "2024-04-09T07:14:14.171885",
          "exception": false,
          "start_time": "2024-04-09T07:13:04.459290",
          "status": "completed"
        },
        "tags": [],
        "id": "dbfde608"
      },
      "outputs": [],
      "source": [
        "stemmer = LancasterStemmer()\n",
        "stop_words = set(stopwords.words(\"english\"))  # Stopwords set\n",
        "\n",
        "def cleaning_data(text):\n",
        "    text = text.lower()\n",
        "    text = re.sub(r'@\\S+', '', text)\n",
        "    text = re.sub(r'http\\S+', '', text)\n",
        "    text = re.sub(r'.pic\\S+', '', text)\n",
        "    text = re.sub(r'[^a-zA-Z+]', ' ', text)  # Change to replace non-characters with a space\n",
        "    text = \"\".join([i for i in text if i not in string.punctuation])\n",
        "    words = nltk.word_tokenize(text)\n",
        "    # Use the predefined stop_words variable instead of redefining it inside the function\n",
        "    text = \" \".join([i for i in words if i not in stop_words and len(i) > 2])\n",
        "    text = re.sub(r\"\\s+\", \" \", text).strip()  # Replace multiple spaces with a single space\n",
        "    return text\n",
        "\n",
        "train_data[\"TextCleaning\"] = train_data[\"Description\"].apply(cleaning_data)"
      ]
    },
    {
      "cell_type": "code",
      "execution_count": null,
      "id": "bbb52642",
      "metadata": {
        "execution": {
          "iopub.execute_input": "2024-04-09T07:14:14.190567Z",
          "iopub.status.busy": "2024-04-09T07:14:14.189373Z",
          "iopub.status.idle": "2024-04-09T07:15:23.787651Z",
          "shell.execute_reply": "2024-04-09T07:15:23.786554Z"
        },
        "papermill": {
          "duration": 69.610644,
          "end_time": "2024-04-09T07:15:23.790697",
          "exception": false,
          "start_time": "2024-04-09T07:14:14.180053",
          "status": "completed"
        },
        "tags": [],
        "id": "bbb52642"
      },
      "outputs": [],
      "source": [
        "test_data[\"TextCleaning\"] = test_data[\"Description\"].apply(cleaning_data)"
      ]
    },
    {
      "cell_type": "code",
      "execution_count": null,
      "id": "75452796",
      "metadata": {
        "execution": {
          "iopub.execute_input": "2024-04-09T07:15:23.808777Z",
          "iopub.status.busy": "2024-04-09T07:15:23.808292Z",
          "iopub.status.idle": "2024-04-09T07:15:23.823974Z",
          "shell.execute_reply": "2024-04-09T07:15:23.823062Z"
        },
        "papermill": {
          "duration": 0.027996,
          "end_time": "2024-04-09T07:15:23.826647",
          "exception": false,
          "start_time": "2024-04-09T07:15:23.798651",
          "status": "completed"
        },
        "tags": [],
        "id": "75452796",
        "outputId": "022f39be-5abc-4839-ee91-1e60bb99b766"
      },
      "outputs": [
        {
          "data": {
            "text/html": [
              "<div>\n",
              "<style scoped>\n",
              "    .dataframe tbody tr th:only-of-type {\n",
              "        vertical-align: middle;\n",
              "    }\n",
              "\n",
              "    .dataframe tbody tr th {\n",
              "        vertical-align: top;\n",
              "    }\n",
              "\n",
              "    .dataframe thead th {\n",
              "        text-align: right;\n",
              "    }\n",
              "</style>\n",
              "<table border=\"1\" class=\"dataframe\">\n",
              "  <thead>\n",
              "    <tr style=\"text-align: right;\">\n",
              "      <th></th>\n",
              "      <th>Title</th>\n",
              "      <th>Genre</th>\n",
              "      <th>Description</th>\n",
              "      <th>TextCleaning</th>\n",
              "    </tr>\n",
              "  </thead>\n",
              "  <tbody>\n",
              "    <tr>\n",
              "      <th>1</th>\n",
              "      <td>Oscar et la dame rose (2009)</td>\n",
              "      <td>drama</td>\n",
              "      <td>Listening in to a conversation between his do...</td>\n",
              "      <td>listening conversation doctor parents year old...</td>\n",
              "    </tr>\n",
              "    <tr>\n",
              "      <th>2</th>\n",
              "      <td>Cupid (1997)</td>\n",
              "      <td>thriller</td>\n",
              "      <td>A brother and sister with a past incestuous r...</td>\n",
              "      <td>brother sister past incestuous relationship cu...</td>\n",
              "    </tr>\n",
              "    <tr>\n",
              "      <th>3</th>\n",
              "      <td>Young, Wild and Wonderful (1980)</td>\n",
              "      <td>adult</td>\n",
              "      <td>As the bus empties the students for their fie...</td>\n",
              "      <td>bus empties students field trip museum natural...</td>\n",
              "    </tr>\n",
              "    <tr>\n",
              "      <th>4</th>\n",
              "      <td>The Secret Sin (1915)</td>\n",
              "      <td>drama</td>\n",
              "      <td>To help their unemployed father make ends mee...</td>\n",
              "      <td>help unemployed father make ends meet edith tw...</td>\n",
              "    </tr>\n",
              "    <tr>\n",
              "      <th>5</th>\n",
              "      <td>The Unrecovered (2007)</td>\n",
              "      <td>drama</td>\n",
              "      <td>The film's title refers not only to the un-re...</td>\n",
              "      <td>film title refers recovered bodies ground zero...</td>\n",
              "    </tr>\n",
              "    <tr>\n",
              "      <th>...</th>\n",
              "      <td>...</td>\n",
              "      <td>...</td>\n",
              "      <td>...</td>\n",
              "      <td>...</td>\n",
              "    </tr>\n",
              "    <tr>\n",
              "      <th>54210</th>\n",
              "      <td>\"Bonino\" (1953)</td>\n",
              "      <td>comedy</td>\n",
              "      <td>This short-lived NBC live sitcom centered on ...</td>\n",
              "      <td>short lived nbc live sitcom centered bonino wo...</td>\n",
              "    </tr>\n",
              "    <tr>\n",
              "      <th>54211</th>\n",
              "      <td>Dead Girls Don't Cry (????)</td>\n",
              "      <td>horror</td>\n",
              "      <td>The NEXT Generation of EXPLOITATION. The sist...</td>\n",
              "      <td>next generation exploitation sisters kapa bay ...</td>\n",
              "    </tr>\n",
              "    <tr>\n",
              "      <th>54212</th>\n",
              "      <td>Ronald Goedemondt: Ze bestaan echt (2008)</td>\n",
              "      <td>documentary</td>\n",
              "      <td>Ze bestaan echt, is a stand-up comedy about g...</td>\n",
              "      <td>bestaan echt stand comedy growing facing fears...</td>\n",
              "    </tr>\n",
              "    <tr>\n",
              "      <th>54213</th>\n",
              "      <td>Make Your Own Bed (1944)</td>\n",
              "      <td>comedy</td>\n",
              "      <td>Walter and Vivian live in the country and hav...</td>\n",
              "      <td>walter vivian live country difficult time keep...</td>\n",
              "    </tr>\n",
              "    <tr>\n",
              "      <th>54214</th>\n",
              "      <td>Nature's Fury: Storm of the Century (2006)</td>\n",
              "      <td>history</td>\n",
              "      <td>On Labor Day Weekend, 1935, the most intense ...</td>\n",
              "      <td>labor day weekend intense hurricane ever make ...</td>\n",
              "    </tr>\n",
              "  </tbody>\n",
              "</table>\n",
              "<p>54214 rows × 4 columns</p>\n",
              "</div>"
            ],
            "text/plain": [
              "                                              Title          Genre  \\\n",
              "1                     Oscar et la dame rose (2009)          drama    \n",
              "2                                     Cupid (1997)       thriller    \n",
              "3                 Young, Wild and Wonderful (1980)          adult    \n",
              "4                            The Secret Sin (1915)          drama    \n",
              "5                           The Unrecovered (2007)          drama    \n",
              "...                                             ...            ...   \n",
              "54210                              \"Bonino\" (1953)         comedy    \n",
              "54211                  Dead Girls Don't Cry (????)         horror    \n",
              "54212    Ronald Goedemondt: Ze bestaan echt (2008)    documentary    \n",
              "54213                     Make Your Own Bed (1944)         comedy    \n",
              "54214   Nature's Fury: Storm of the Century (2006)        history    \n",
              "\n",
              "                                             Description  \\\n",
              "1       Listening in to a conversation between his do...   \n",
              "2       A brother and sister with a past incestuous r...   \n",
              "3       As the bus empties the students for their fie...   \n",
              "4       To help their unemployed father make ends mee...   \n",
              "5       The film's title refers not only to the un-re...   \n",
              "...                                                  ...   \n",
              "54210   This short-lived NBC live sitcom centered on ...   \n",
              "54211   The NEXT Generation of EXPLOITATION. The sist...   \n",
              "54212   Ze bestaan echt, is a stand-up comedy about g...   \n",
              "54213   Walter and Vivian live in the country and hav...   \n",
              "54214   On Labor Day Weekend, 1935, the most intense ...   \n",
              "\n",
              "                                            TextCleaning  \n",
              "1      listening conversation doctor parents year old...  \n",
              "2      brother sister past incestuous relationship cu...  \n",
              "3      bus empties students field trip museum natural...  \n",
              "4      help unemployed father make ends meet edith tw...  \n",
              "5      film title refers recovered bodies ground zero...  \n",
              "...                                                  ...  \n",
              "54210  short lived nbc live sitcom centered bonino wo...  \n",
              "54211  next generation exploitation sisters kapa bay ...  \n",
              "54212  bestaan echt stand comedy growing facing fears...  \n",
              "54213  walter vivian live country difficult time keep...  \n",
              "54214  labor day weekend intense hurricane ever make ...  \n",
              "\n",
              "[54214 rows x 4 columns]"
            ]
          },
          "execution_count": 9,
          "metadata": {},
          "output_type": "execute_result"
        }
      ],
      "source": [
        "train_data"
      ]
    },
    {
      "cell_type": "code",
      "execution_count": null,
      "id": "8576e424",
      "metadata": {
        "execution": {
          "iopub.execute_input": "2024-04-09T07:15:23.847228Z",
          "iopub.status.busy": "2024-04-09T07:15:23.846693Z",
          "iopub.status.idle": "2024-04-09T07:15:23.863342Z",
          "shell.execute_reply": "2024-04-09T07:15:23.862009Z"
        },
        "papermill": {
          "duration": 0.030369,
          "end_time": "2024-04-09T07:15:23.866055",
          "exception": false,
          "start_time": "2024-04-09T07:15:23.835686",
          "status": "completed"
        },
        "tags": [],
        "id": "8576e424",
        "outputId": "2067edca-7b8f-423b-e1ff-4a43475ce721"
      },
      "outputs": [
        {
          "data": {
            "text/html": [
              "<div>\n",
              "<style scoped>\n",
              "    .dataframe tbody tr th:only-of-type {\n",
              "        vertical-align: middle;\n",
              "    }\n",
              "\n",
              "    .dataframe tbody tr th {\n",
              "        vertical-align: top;\n",
              "    }\n",
              "\n",
              "    .dataframe thead th {\n",
              "        text-align: right;\n",
              "    }\n",
              "</style>\n",
              "<table border=\"1\" class=\"dataframe\">\n",
              "  <thead>\n",
              "    <tr style=\"text-align: right;\">\n",
              "      <th></th>\n",
              "      <th>Title</th>\n",
              "      <th>Genre</th>\n",
              "      <th>Description</th>\n",
              "      <th>TextCleaning</th>\n",
              "    </tr>\n",
              "  </thead>\n",
              "  <tbody>\n",
              "    <tr>\n",
              "      <th>1</th>\n",
              "      <td>Edgar's Lunch (1998)</td>\n",
              "      <td>thriller</td>\n",
              "      <td>L.R. Brane loves his life - his car, his apar...</td>\n",
              "      <td>brane loves life car apartment job especially ...</td>\n",
              "    </tr>\n",
              "    <tr>\n",
              "      <th>2</th>\n",
              "      <td>La guerra de papá (1977)</td>\n",
              "      <td>comedy</td>\n",
              "      <td>Spain, March 1964: Quico is a very naughty ch...</td>\n",
              "      <td>spain march quico naughty child three belongin...</td>\n",
              "    </tr>\n",
              "    <tr>\n",
              "      <th>3</th>\n",
              "      <td>Off the Beaten Track (2010)</td>\n",
              "      <td>documentary</td>\n",
              "      <td>One year in the life of Albin and his family ...</td>\n",
              "      <td>one year life albin family shepherds north tra...</td>\n",
              "    </tr>\n",
              "    <tr>\n",
              "      <th>4</th>\n",
              "      <td>Meu Amigo Hindu (2015)</td>\n",
              "      <td>drama</td>\n",
              "      <td>His father has died, he hasn't spoken with hi...</td>\n",
              "      <td>father died spoken brother years serious cance...</td>\n",
              "    </tr>\n",
              "    <tr>\n",
              "      <th>5</th>\n",
              "      <td>Er nu zhai (1955)</td>\n",
              "      <td>drama</td>\n",
              "      <td>Before he was known internationally as a mart...</td>\n",
              "      <td>known internationally martial arts superstar b...</td>\n",
              "    </tr>\n",
              "    <tr>\n",
              "      <th>...</th>\n",
              "      <td>...</td>\n",
              "      <td>...</td>\n",
              "      <td>...</td>\n",
              "      <td>...</td>\n",
              "    </tr>\n",
              "    <tr>\n",
              "      <th>54196</th>\n",
              "      <td>\"Tales of Light &amp; Dark\" (2013)</td>\n",
              "      <td>horror</td>\n",
              "      <td>Covering multiple genres, Tales of Light &amp; Da...</td>\n",
              "      <td>covering multiple genres tales light dark anth...</td>\n",
              "    </tr>\n",
              "    <tr>\n",
              "      <th>54197</th>\n",
              "      <td>Der letzte Mohikaner (1965)</td>\n",
              "      <td>western</td>\n",
              "      <td>As Alice and Cora Munro attempt to find their...</td>\n",
              "      <td>alice cora munro attempt find father british o...</td>\n",
              "    </tr>\n",
              "    <tr>\n",
              "      <th>54198</th>\n",
              "      <td>Oliver Twink (2007)</td>\n",
              "      <td>adult</td>\n",
              "      <td>A movie 169 years in the making. Oliver Twist...</td>\n",
              "      <td>movie years making oliver twist artful dodger ...</td>\n",
              "    </tr>\n",
              "    <tr>\n",
              "      <th>54199</th>\n",
              "      <td>Slipstream (1973)</td>\n",
              "      <td>drama</td>\n",
              "      <td>Popular, but mysterious rock D.J Mike Mallard...</td>\n",
              "      <td>popular mysterious rock mike mallard askew bro...</td>\n",
              "    </tr>\n",
              "    <tr>\n",
              "      <th>54200</th>\n",
              "      <td>Curitiba Zero Grau (2010)</td>\n",
              "      <td>drama</td>\n",
              "      <td>Curitiba is a city in movement, with rhythms ...</td>\n",
              "      <td>curitiba city movement rhythms different pulsa...</td>\n",
              "    </tr>\n",
              "  </tbody>\n",
              "</table>\n",
              "<p>54200 rows × 4 columns</p>\n",
              "</div>"
            ],
            "text/plain": [
              "                                  Title          Genre  \\\n",
              "1                 Edgar's Lunch (1998)       thriller    \n",
              "2             La guerra de papá (1977)         comedy    \n",
              "3          Off the Beaten Track (2010)    documentary    \n",
              "4               Meu Amigo Hindu (2015)          drama    \n",
              "5                    Er nu zhai (1955)          drama    \n",
              "...                                 ...            ...   \n",
              "54196   \"Tales of Light & Dark\" (2013)         horror    \n",
              "54197      Der letzte Mohikaner (1965)        western    \n",
              "54198              Oliver Twink (2007)          adult    \n",
              "54199                Slipstream (1973)          drama    \n",
              "54200        Curitiba Zero Grau (2010)          drama    \n",
              "\n",
              "                                             Description  \\\n",
              "1       L.R. Brane loves his life - his car, his apar...   \n",
              "2       Spain, March 1964: Quico is a very naughty ch...   \n",
              "3       One year in the life of Albin and his family ...   \n",
              "4       His father has died, he hasn't spoken with hi...   \n",
              "5       Before he was known internationally as a mart...   \n",
              "...                                                  ...   \n",
              "54196   Covering multiple genres, Tales of Light & Da...   \n",
              "54197   As Alice and Cora Munro attempt to find their...   \n",
              "54198   A movie 169 years in the making. Oliver Twist...   \n",
              "54199   Popular, but mysterious rock D.J Mike Mallard...   \n",
              "54200   Curitiba is a city in movement, with rhythms ...   \n",
              "\n",
              "                                            TextCleaning  \n",
              "1      brane loves life car apartment job especially ...  \n",
              "2      spain march quico naughty child three belongin...  \n",
              "3      one year life albin family shepherds north tra...  \n",
              "4      father died spoken brother years serious cance...  \n",
              "5      known internationally martial arts superstar b...  \n",
              "...                                                  ...  \n",
              "54196  covering multiple genres tales light dark anth...  \n",
              "54197  alice cora munro attempt find father british o...  \n",
              "54198  movie years making oliver twist artful dodger ...  \n",
              "54199  popular mysterious rock mike mallard askew bro...  \n",
              "54200  curitiba city movement rhythms different pulsa...  \n",
              "\n",
              "[54200 rows x 4 columns]"
            ]
          },
          "execution_count": 10,
          "metadata": {},
          "output_type": "execute_result"
        }
      ],
      "source": [
        "test_data"
      ]
    },
    {
      "cell_type": "code",
      "execution_count": null,
      "id": "caa315a7",
      "metadata": {
        "execution": {
          "iopub.execute_input": "2024-04-09T07:15:23.887342Z",
          "iopub.status.busy": "2024-04-09T07:15:23.886449Z",
          "iopub.status.idle": "2024-04-09T07:15:33.886027Z",
          "shell.execute_reply": "2024-04-09T07:15:33.884935Z"
        },
        "papermill": {
          "duration": 10.014242,
          "end_time": "2024-04-09T07:15:33.889001",
          "exception": false,
          "start_time": "2024-04-09T07:15:23.874759",
          "status": "completed"
        },
        "tags": [],
        "id": "caa315a7"
      },
      "outputs": [],
      "source": [
        "vectorize = TfidfVectorizer()\n",
        "\n",
        "X_train = vectorize.fit_transform(train_data[\"TextCleaning\"])\n",
        "\n",
        "X_test = vectorize.transform(test_data[\"TextCleaning\"])"
      ]
    },
    {
      "cell_type": "code",
      "execution_count": null,
      "id": "988eb86f",
      "metadata": {
        "execution": {
          "iopub.execute_input": "2024-04-09T07:15:33.909268Z",
          "iopub.status.busy": "2024-04-09T07:15:33.908160Z",
          "iopub.status.idle": "2024-04-09T07:15:33.916432Z",
          "shell.execute_reply": "2024-04-09T07:15:33.915165Z"
        },
        "papermill": {
          "duration": 0.021113,
          "end_time": "2024-04-09T07:15:33.919013",
          "exception": false,
          "start_time": "2024-04-09T07:15:33.897900",
          "status": "completed"
        },
        "tags": [],
        "id": "988eb86f",
        "outputId": "3614577e-12bb-446b-a017-f1925f5f8d12"
      },
      "outputs": [
        {
          "data": {
            "text/plain": [
              "(54214, 116601)"
            ]
          },
          "execution_count": 12,
          "metadata": {},
          "output_type": "execute_result"
        }
      ],
      "source": [
        "X_train.shape"
      ]
    },
    {
      "cell_type": "code",
      "execution_count": null,
      "id": "cd6c6765",
      "metadata": {
        "execution": {
          "iopub.execute_input": "2024-04-09T07:15:33.945461Z",
          "iopub.status.busy": "2024-04-09T07:15:33.944032Z",
          "iopub.status.idle": "2024-04-09T07:15:33.954431Z",
          "shell.execute_reply": "2024-04-09T07:15:33.953382Z"
        },
        "papermill": {
          "duration": 0.029336,
          "end_time": "2024-04-09T07:15:33.957380",
          "exception": false,
          "start_time": "2024-04-09T07:15:33.928044",
          "status": "completed"
        },
        "tags": [],
        "id": "cd6c6765",
        "outputId": "b67c21dc-03bb-470b-929a-802456ac6e1c"
      },
      "outputs": [
        {
          "data": {
            "text/plain": [
              "(54214,)"
            ]
          },
          "execution_count": 13,
          "metadata": {},
          "output_type": "execute_result"
        }
      ],
      "source": [
        "train_data['Genre'].shape"
      ]
    },
    {
      "cell_type": "code",
      "execution_count": null,
      "id": "7c746c17",
      "metadata": {
        "execution": {
          "iopub.execute_input": "2024-04-09T07:15:33.986218Z",
          "iopub.status.busy": "2024-04-09T07:15:33.984852Z",
          "iopub.status.idle": "2024-04-09T07:15:33.994416Z",
          "shell.execute_reply": "2024-04-09T07:15:33.991760Z"
        },
        "papermill": {
          "duration": 0.028261,
          "end_time": "2024-04-09T07:15:33.998212",
          "exception": false,
          "start_time": "2024-04-09T07:15:33.969951",
          "status": "completed"
        },
        "tags": [],
        "id": "7c746c17"
      },
      "outputs": [],
      "source": [
        "Y_train = train_data['Genre']\n",
        "Y_test = test_data['Genre']"
      ]
    },
    {
      "cell_type": "code",
      "execution_count": null,
      "id": "0de2aa3d",
      "metadata": {
        "execution": {
          "iopub.execute_input": "2024-04-09T07:15:34.024196Z",
          "iopub.status.busy": "2024-04-09T07:15:34.022921Z",
          "iopub.status.idle": "2024-04-09T09:38:33.905988Z",
          "shell.execute_reply": "2024-04-09T09:38:33.904714Z"
        },
        "papermill": {
          "duration": 8579.907448,
          "end_time": "2024-04-09T09:38:33.917538",
          "exception": false,
          "start_time": "2024-04-09T07:15:34.010090",
          "status": "completed"
        },
        "tags": [],
        "id": "0de2aa3d",
        "outputId": "c6d0dba6-6a05-4984-dd1b-90e402de7b8b"
      },
      "outputs": [
        {
          "data": {
            "text/html": [
              "<style>#sk-container-id-1 {color: black;background-color: white;}#sk-container-id-1 pre{padding: 0;}#sk-container-id-1 div.sk-toggleable {background-color: white;}#sk-container-id-1 label.sk-toggleable__label {cursor: pointer;display: block;width: 100%;margin-bottom: 0;padding: 0.3em;box-sizing: border-box;text-align: center;}#sk-container-id-1 label.sk-toggleable__label-arrow:before {content: \"▸\";float: left;margin-right: 0.25em;color: #696969;}#sk-container-id-1 label.sk-toggleable__label-arrow:hover:before {color: black;}#sk-container-id-1 div.sk-estimator:hover label.sk-toggleable__label-arrow:before {color: black;}#sk-container-id-1 div.sk-toggleable__content {max-height: 0;max-width: 0;overflow: hidden;text-align: left;background-color: #f0f8ff;}#sk-container-id-1 div.sk-toggleable__content pre {margin: 0.2em;color: black;border-radius: 0.25em;background-color: #f0f8ff;}#sk-container-id-1 input.sk-toggleable__control:checked~div.sk-toggleable__content {max-height: 200px;max-width: 100%;overflow: auto;}#sk-container-id-1 input.sk-toggleable__control:checked~label.sk-toggleable__label-arrow:before {content: \"▾\";}#sk-container-id-1 div.sk-estimator input.sk-toggleable__control:checked~label.sk-toggleable__label {background-color: #d4ebff;}#sk-container-id-1 div.sk-label input.sk-toggleable__control:checked~label.sk-toggleable__label {background-color: #d4ebff;}#sk-container-id-1 input.sk-hidden--visually {border: 0;clip: rect(1px 1px 1px 1px);clip: rect(1px, 1px, 1px, 1px);height: 1px;margin: -1px;overflow: hidden;padding: 0;position: absolute;width: 1px;}#sk-container-id-1 div.sk-estimator {font-family: monospace;background-color: #f0f8ff;border: 1px dotted black;border-radius: 0.25em;box-sizing: border-box;margin-bottom: 0.5em;}#sk-container-id-1 div.sk-estimator:hover {background-color: #d4ebff;}#sk-container-id-1 div.sk-parallel-item::after {content: \"\";width: 100%;border-bottom: 1px solid gray;flex-grow: 1;}#sk-container-id-1 div.sk-label:hover label.sk-toggleable__label {background-color: #d4ebff;}#sk-container-id-1 div.sk-serial::before {content: \"\";position: absolute;border-left: 1px solid gray;box-sizing: border-box;top: 0;bottom: 0;left: 50%;z-index: 0;}#sk-container-id-1 div.sk-serial {display: flex;flex-direction: column;align-items: center;background-color: white;padding-right: 0.2em;padding-left: 0.2em;position: relative;}#sk-container-id-1 div.sk-item {position: relative;z-index: 1;}#sk-container-id-1 div.sk-parallel {display: flex;align-items: stretch;justify-content: center;background-color: white;position: relative;}#sk-container-id-1 div.sk-item::before, #sk-container-id-1 div.sk-parallel-item::before {content: \"\";position: absolute;border-left: 1px solid gray;box-sizing: border-box;top: 0;bottom: 0;left: 50%;z-index: -1;}#sk-container-id-1 div.sk-parallel-item {display: flex;flex-direction: column;z-index: 1;position: relative;background-color: white;}#sk-container-id-1 div.sk-parallel-item:first-child::after {align-self: flex-end;width: 50%;}#sk-container-id-1 div.sk-parallel-item:last-child::after {align-self: flex-start;width: 50%;}#sk-container-id-1 div.sk-parallel-item:only-child::after {width: 0;}#sk-container-id-1 div.sk-dashed-wrapped {border: 1px dashed gray;margin: 0 0.4em 0.5em 0.4em;box-sizing: border-box;padding-bottom: 0.4em;background-color: white;}#sk-container-id-1 div.sk-label label {font-family: monospace;font-weight: bold;display: inline-block;line-height: 1.2em;}#sk-container-id-1 div.sk-label-container {text-align: center;}#sk-container-id-1 div.sk-container {/* jupyter's `normalize.less` sets `[hidden] { display: none; }` but bootstrap.min.css set `[hidden] { display: none !important; }` so we also need the `!important` here to be able to override the default hidden behavior on the sphinx rendered scikit-learn.org. See: https://github.com/scikit-learn/scikit-learn/issues/21755 */display: inline-block !important;position: relative;}#sk-container-id-1 div.sk-text-repr-fallback {display: none;}</style><div id=\"sk-container-id-1\" class=\"sk-top-container\"><div class=\"sk-text-repr-fallback\"><pre>SVC()</pre><b>In a Jupyter environment, please rerun this cell to show the HTML representation or trust the notebook. <br />On GitHub, the HTML representation is unable to render, please try loading this page with nbviewer.org.</b></div><div class=\"sk-container\" hidden><div class=\"sk-item\"><div class=\"sk-estimator sk-toggleable\"><input class=\"sk-toggleable__control sk-hidden--visually\" id=\"sk-estimator-id-1\" type=\"checkbox\" checked><label for=\"sk-estimator-id-1\" class=\"sk-toggleable__label sk-toggleable__label-arrow\">SVC</label><div class=\"sk-toggleable__content\"><pre>SVC()</pre></div></div></div></div></div>"
            ],
            "text/plain": [
              "SVC()"
            ]
          },
          "execution_count": 15,
          "metadata": {},
          "output_type": "execute_result"
        }
      ],
      "source": [
        "model = SVC()\n",
        "model.fit(X_train, Y_train)"
      ]
    },
    {
      "cell_type": "code",
      "execution_count": null,
      "id": "0003315f",
      "metadata": {
        "execution": {
          "iopub.execute_input": "2024-04-09T09:38:33.940909Z",
          "iopub.status.busy": "2024-04-09T09:38:33.940047Z",
          "iopub.status.idle": "2024-04-09T10:10:30.099917Z",
          "shell.execute_reply": "2024-04-09T10:10:30.098471Z"
        },
        "papermill": {
          "duration": 1916.181327,
          "end_time": "2024-04-09T10:10:30.108640",
          "exception": false,
          "start_time": "2024-04-09T09:38:33.927313",
          "status": "completed"
        },
        "tags": [],
        "id": "0003315f",
        "outputId": "f124ff36-c3c4-41a9-96f0-2ffd60e3d76c"
      },
      "outputs": [
        {
          "data": {
            "text/plain": [
              "0.9044711698085366"
            ]
          },
          "execution_count": 16,
          "metadata": {},
          "output_type": "execute_result"
        }
      ],
      "source": [
        "train_score = model.score(X_train, Y_train)\n",
        "train_score"
      ]
    },
    {
      "cell_type": "code",
      "execution_count": null,
      "id": "cab0c307",
      "metadata": {
        "execution": {
          "iopub.execute_input": "2024-04-09T10:10:30.130996Z",
          "iopub.status.busy": "2024-04-09T10:10:30.130400Z",
          "iopub.status.idle": "2024-04-09T10:42:18.445405Z",
          "shell.execute_reply": "2024-04-09T10:42:18.443896Z"
        },
        "papermill": {
          "duration": 1908.330193,
          "end_time": "2024-04-09T10:42:18.449111",
          "exception": false,
          "start_time": "2024-04-09T10:10:30.118918",
          "status": "completed"
        },
        "tags": [],
        "id": "cab0c307"
      },
      "outputs": [],
      "source": [
        "y_pred = model.predict(X_train)"
      ]
    },
    {
      "cell_type": "code",
      "execution_count": null,
      "id": "3167c166",
      "metadata": {
        "execution": {
          "iopub.execute_input": "2024-04-09T10:42:18.471912Z",
          "iopub.status.busy": "2024-04-09T10:42:18.471374Z",
          "iopub.status.idle": "2024-04-09T10:42:18.499483Z",
          "shell.execute_reply": "2024-04-09T10:42:18.498536Z"
        },
        "papermill": {
          "duration": 0.042255,
          "end_time": "2024-04-09T10:42:18.502256",
          "exception": false,
          "start_time": "2024-04-09T10:42:18.460001",
          "status": "completed"
        },
        "tags": [],
        "id": "3167c166",
        "outputId": "50646a9a-b01d-4739-d4e6-54450db8d747"
      },
      "outputs": [
        {
          "data": {
            "text/plain": [
              "0           \n",
              "drama           16193\n",
              "documentary     14564\n",
              "comedy           7751\n",
              "short            4411\n",
              "horror           2206\n",
              "thriller         1243\n",
              "action           1166\n",
              "western          1007\n",
              "reality-tv        729\n",
              "music             685\n",
              "sci-fi            571\n",
              "adventure         545\n",
              "adult             520\n",
              "family            480\n",
              "sport             377\n",
              "animation         362\n",
              "talk-show         296\n",
              "crime             245\n",
              "romance           195\n",
              "game-show         181\n",
              "fantasy           135\n",
              "mystery           111\n",
              "musical           111\n",
              "news               62\n",
              "war                57\n",
              "history             8\n",
              "biography           3\n",
              "Name: count, dtype: int64"
            ]
          },
          "execution_count": 18,
          "metadata": {},
          "output_type": "execute_result"
        }
      ],
      "source": [
        "yy = pd.DataFrame(y_pred)\n",
        "yy.value_counts()"
      ]
    },
    {
      "cell_type": "code",
      "execution_count": null,
      "id": "1c05c8bd",
      "metadata": {
        "execution": {
          "iopub.execute_input": "2024-04-09T10:42:18.524619Z",
          "iopub.status.busy": "2024-04-09T10:42:18.524112Z",
          "iopub.status.idle": "2024-04-09T11:13:50.219630Z",
          "shell.execute_reply": "2024-04-09T11:13:50.218244Z"
        },
        "papermill": {
          "duration": 1891.720822,
          "end_time": "2024-04-09T11:13:50.233116",
          "exception": false,
          "start_time": "2024-04-09T10:42:18.512294",
          "status": "completed"
        },
        "tags": [],
        "id": "1c05c8bd",
        "outputId": "d4baac04-e25d-493b-b673-b80efa94815d"
      },
      "outputs": [
        {
          "data": {
            "text/plain": [
              "0.5807011070110701"
            ]
          },
          "execution_count": 19,
          "metadata": {},
          "output_type": "execute_result"
        }
      ],
      "source": [
        "test_score = model.score(X_test, Y_test)\n",
        "test_score"
      ]
    },
    {
      "cell_type": "code",
      "execution_count": null,
      "id": "eb2c0cc2",
      "metadata": {
        "papermill": {
          "duration": 0.011128,
          "end_time": "2024-04-09T11:13:50.257376",
          "exception": false,
          "start_time": "2024-04-09T11:13:50.246248",
          "status": "completed"
        },
        "tags": [],
        "id": "eb2c0cc2"
      },
      "outputs": [],
      "source": []
    }
  ],
  "metadata": {
    "kaggle": {
      "accelerator": "none",
      "dataSources": [
        {
          "datasetId": 1417162,
          "sourceId": 2347441,
          "sourceType": "datasetVersion"
        }
      ],
      "dockerImageVersionId": 30673,
      "isGpuEnabled": false,
      "isInternetEnabled": false,
      "language": "python",
      "sourceType": "notebook"
    },
    "kernelspec": {
      "display_name": "Python 3",
      "language": "python",
      "name": "python3"
    },
    "language_info": {
      "codemirror_mode": {
        "name": "ipython",
        "version": 3
      },
      "file_extension": ".py",
      "mimetype": "text/x-python",
      "name": "python",
      "nbconvert_exporter": "python",
      "pygments_lexer": "ipython3",
      "version": "3.10.13"
    },
    "papermill": {
      "default_parameters": {},
      "duration": 14476.402768,
      "end_time": "2024-04-09T11:13:53.376773",
      "environment_variables": {},
      "exception": null,
      "input_path": "__notebook__.ipynb",
      "output_path": "__notebook__.ipynb",
      "parameters": {},
      "start_time": "2024-04-09T07:12:36.974005",
      "version": "2.5.0"
    },
    "colab": {
      "provenance": [],
      "include_colab_link": true
    }
  },
  "nbformat": 4,
  "nbformat_minor": 5
}