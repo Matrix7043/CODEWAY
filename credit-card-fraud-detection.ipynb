{
 "cells": [
  {
   "cell_type": "code",
   "execution_count": 1,
   "id": "c54cfd62",
   "metadata": {
    "_cell_guid": "b1076dfc-b9ad-4769-8c92-a6c4dae69d19",
    "_uuid": "8f2839f25d086af736a60e9eeb907d3b93b6e0e5",
    "execution": {
     "iopub.execute_input": "2024-04-09T06:56:02.929912Z",
     "iopub.status.busy": "2024-04-09T06:56:02.928542Z",
     "iopub.status.idle": "2024-04-09T06:56:06.098866Z",
     "shell.execute_reply": "2024-04-09T06:56:06.097330Z"
    },
    "papermill": {
     "duration": 3.185641,
     "end_time": "2024-04-09T06:56:06.102584",
     "exception": false,
     "start_time": "2024-04-09T06:56:02.916943",
     "status": "completed"
    },
    "tags": []
   },
   "outputs": [],
   "source": [
    "import numpy as np \n",
    "import pandas as pd\n",
    "import matplotlib.pyplot as plt\n",
    "from sklearn.preprocessing import StandardScaler, OneHotEncoder\n",
    "from sklearn.compose import ColumnTransformer\n",
    "from sklearn.model_selection import train_test_split\n",
    "from sklearn.model_selection import GridSearchCV\n",
    "from sklearn.metrics import confusion_matrix\n",
    "from sklearn.metrics import ConfusionMatrixDisplay\n",
    "from sklearn.linear_model import SGDClassifier\n",
    "from sklearn.metrics import precision_recall_curve\n",
    "from sklearn.model_selection import cross_val_predict\n",
    "from sklearn.metrics import precision_score, recall_score\n",
    "from sklearn.model_selection import cross_val_score\n",
    "from sklearn.tree import DecisionTreeClassifier\n",
    "from sklearn.tree import plot_tree\n"
   ]
  },
  {
   "cell_type": "code",
   "execution_count": 2,
   "id": "7df9cc9b",
   "metadata": {
    "execution": {
     "iopub.execute_input": "2024-04-09T06:56:06.125090Z",
     "iopub.status.busy": "2024-04-09T06:56:06.123551Z",
     "iopub.status.idle": "2024-04-09T06:56:29.017232Z",
     "shell.execute_reply": "2024-04-09T06:56:29.015284Z"
    },
    "papermill": {
     "duration": 22.908005,
     "end_time": "2024-04-09T06:56:29.020733",
     "exception": false,
     "start_time": "2024-04-09T06:56:06.112728",
     "status": "completed"
    },
    "tags": []
   },
   "outputs": [],
   "source": [
    "df = pd.read_csv(r\"/kaggle/input/fraud-detection/fraudTrain.csv\")\n",
    "#df.drop('Unnamed: 0', axis=1, inplace=True)\n",
    "\n",
    "df_t = pd.read_csv(r\"/kaggle/input/fraud-detection/fraudTest.csv\")\n",
    "#df_t.drop('Unnamed: 0', axis=1, inplace=True)"
   ]
  },
  {
   "cell_type": "code",
   "execution_count": 3,
   "id": "df10bca3",
   "metadata": {
    "execution": {
     "iopub.execute_input": "2024-04-09T06:56:29.041041Z",
     "iopub.status.busy": "2024-04-09T06:56:29.040121Z",
     "iopub.status.idle": "2024-04-09T06:56:30.890566Z",
     "shell.execute_reply": "2024-04-09T06:56:30.889138Z"
    },
    "papermill": {
     "duration": 1.864134,
     "end_time": "2024-04-09T06:56:30.893735",
     "exception": false,
     "start_time": "2024-04-09T06:56:29.029601",
     "status": "completed"
    },
    "tags": []
   },
   "outputs": [
    {
     "name": "stdout",
     "output_type": "stream",
     "text": [
      "<class 'pandas.core.frame.DataFrame'>\n",
      "RangeIndex: 1296675 entries, 0 to 1296674\n",
      "Data columns (total 23 columns):\n",
      " #   Column                 Non-Null Count    Dtype  \n",
      "---  ------                 --------------    -----  \n",
      " 0   Unnamed: 0             1296675 non-null  int64  \n",
      " 1   trans_date_trans_time  1296675 non-null  object \n",
      " 2   cc_num                 1296675 non-null  int64  \n",
      " 3   merchant               1296675 non-null  object \n",
      " 4   category               1296675 non-null  object \n",
      " 5   amt                    1296675 non-null  float64\n",
      " 6   first                  1296675 non-null  object \n",
      " 7   last                   1296675 non-null  object \n",
      " 8   gender                 1296675 non-null  object \n",
      " 9   street                 1296675 non-null  object \n",
      " 10  city                   1296675 non-null  object \n",
      " 11  state                  1296675 non-null  object \n",
      " 12  zip                    1296675 non-null  int64  \n",
      " 13  lat                    1296675 non-null  float64\n",
      " 14  long                   1296675 non-null  float64\n",
      " 15  city_pop               1296675 non-null  int64  \n",
      " 16  job                    1296675 non-null  object \n",
      " 17  dob                    1296675 non-null  object \n",
      " 18  trans_num              1296675 non-null  object \n",
      " 19  unix_time              1296675 non-null  int64  \n",
      " 20  merch_lat              1296675 non-null  float64\n",
      " 21  merch_long             1296675 non-null  float64\n",
      " 22  is_fraud               1296675 non-null  int64  \n",
      "dtypes: float64(5), int64(6), object(12)\n",
      "memory usage: 227.5+ MB\n"
     ]
    }
   ],
   "source": [
    "df.info()"
   ]
  },
  {
   "cell_type": "code",
   "execution_count": 4,
   "id": "4b111b95",
   "metadata": {
    "execution": {
     "iopub.execute_input": "2024-04-09T06:56:30.913840Z",
     "iopub.status.busy": "2024-04-09T06:56:30.913387Z",
     "iopub.status.idle": "2024-04-09T06:56:31.647805Z",
     "shell.execute_reply": "2024-04-09T06:56:31.645414Z"
    },
    "papermill": {
     "duration": 0.747848,
     "end_time": "2024-04-09T06:56:31.650617",
     "exception": false,
     "start_time": "2024-04-09T06:56:30.902769",
     "status": "completed"
    },
    "tags": []
   },
   "outputs": [
    {
     "name": "stdout",
     "output_type": "stream",
     "text": [
      "<class 'pandas.core.frame.DataFrame'>\n",
      "RangeIndex: 555719 entries, 0 to 555718\n",
      "Data columns (total 23 columns):\n",
      " #   Column                 Non-Null Count   Dtype  \n",
      "---  ------                 --------------   -----  \n",
      " 0   Unnamed: 0             555719 non-null  int64  \n",
      " 1   trans_date_trans_time  555719 non-null  object \n",
      " 2   cc_num                 555719 non-null  int64  \n",
      " 3   merchant               555719 non-null  object \n",
      " 4   category               555719 non-null  object \n",
      " 5   amt                    555719 non-null  float64\n",
      " 6   first                  555719 non-null  object \n",
      " 7   last                   555719 non-null  object \n",
      " 8   gender                 555719 non-null  object \n",
      " 9   street                 555719 non-null  object \n",
      " 10  city                   555719 non-null  object \n",
      " 11  state                  555719 non-null  object \n",
      " 12  zip                    555719 non-null  int64  \n",
      " 13  lat                    555719 non-null  float64\n",
      " 14  long                   555719 non-null  float64\n",
      " 15  city_pop               555719 non-null  int64  \n",
      " 16  job                    555719 non-null  object \n",
      " 17  dob                    555719 non-null  object \n",
      " 18  trans_num              555719 non-null  object \n",
      " 19  unix_time              555719 non-null  int64  \n",
      " 20  merch_lat              555719 non-null  float64\n",
      " 21  merch_long             555719 non-null  float64\n",
      " 22  is_fraud               555719 non-null  int64  \n",
      "dtypes: float64(5), int64(6), object(12)\n",
      "memory usage: 97.5+ MB\n"
     ]
    }
   ],
   "source": [
    "df_t.info()"
   ]
  },
  {
   "cell_type": "code",
   "execution_count": 5,
   "id": "9d5d0119",
   "metadata": {
    "execution": {
     "iopub.execute_input": "2024-04-09T06:56:31.671116Z",
     "iopub.status.busy": "2024-04-09T06:56:31.670612Z",
     "iopub.status.idle": "2024-04-09T06:56:31.995162Z",
     "shell.execute_reply": "2024-04-09T06:56:31.993714Z"
    },
    "papermill": {
     "duration": 0.338514,
     "end_time": "2024-04-09T06:56:31.998425",
     "exception": false,
     "start_time": "2024-04-09T06:56:31.659911",
     "status": "completed"
    },
    "tags": []
   },
   "outputs": [],
   "source": [
    "df.drop(columns=['cc_num', \n",
    "                 'trans_date_trans_time', \n",
    "                 'gender', \n",
    "                 'dob', \n",
    "                 'street', \n",
    "                 'first', \n",
    "                 'last', \n",
    "                 'city', \n",
    "                 'state', \n",
    "                 'trans_num'], inplace=True)\n",
    "\n",
    "df_t.drop(columns=['cc_num', \n",
    "                 'trans_date_trans_time', \n",
    "                 'gender', \n",
    "                 'dob', \n",
    "                 'street', \n",
    "                 'first', \n",
    "                 'last', \n",
    "                 'city', \n",
    "                 'state', \n",
    "                 'trans_num'], inplace=True)"
   ]
  },
  {
   "cell_type": "code",
   "execution_count": 6,
   "id": "d07f6fef",
   "metadata": {
    "execution": {
     "iopub.execute_input": "2024-04-09T06:56:32.020599Z",
     "iopub.status.busy": "2024-04-09T06:56:32.020107Z",
     "iopub.status.idle": "2024-04-09T06:56:32.030845Z",
     "shell.execute_reply": "2024-04-09T06:56:32.029360Z"
    },
    "papermill": {
     "duration": 0.024997,
     "end_time": "2024-04-09T06:56:32.033679",
     "exception": false,
     "start_time": "2024-04-09T06:56:32.008682",
     "status": "completed"
    },
    "tags": []
   },
   "outputs": [
    {
     "data": {
      "text/plain": [
       "555719"
      ]
     },
     "execution_count": 6,
     "metadata": {},
     "output_type": "execute_result"
    }
   ],
   "source": [
    "df_t.__len__()"
   ]
  },
  {
   "cell_type": "code",
   "execution_count": 7,
   "id": "b671871f",
   "metadata": {
    "execution": {
     "iopub.execute_input": "2024-04-09T06:56:32.056279Z",
     "iopub.status.busy": "2024-04-09T06:56:32.054795Z",
     "iopub.status.idle": "2024-04-09T06:56:32.519821Z",
     "shell.execute_reply": "2024-04-09T06:56:32.518023Z"
    },
    "papermill": {
     "duration": 0.480055,
     "end_time": "2024-04-09T06:56:32.523010",
     "exception": false,
     "start_time": "2024-04-09T06:56:32.042955",
     "status": "completed"
    },
    "tags": []
   },
   "outputs": [
    {
     "name": "stdout",
     "output_type": "stream",
     "text": [
      "478 494 693 693\n"
     ]
    }
   ],
   "source": [
    "print(len(df_t['job'].unique()),\n",
    "len(df['job'].unique()),\n",
    "len(df_t['merchant'].unique()),\n",
    "len(df['merchant'].unique()))"
   ]
  },
  {
   "cell_type": "code",
   "execution_count": 8,
   "id": "6be14d25",
   "metadata": {
    "execution": {
     "iopub.execute_input": "2024-04-09T06:56:32.546316Z",
     "iopub.status.busy": "2024-04-09T06:56:32.545131Z",
     "iopub.status.idle": "2024-04-09T06:56:32.806258Z",
     "shell.execute_reply": "2024-04-09T06:56:32.804680Z"
    },
    "papermill": {
     "duration": 0.277155,
     "end_time": "2024-04-09T06:56:32.810142",
     "exception": false,
     "start_time": "2024-04-09T06:56:32.532987",
     "status": "completed"
    },
    "tags": []
   },
   "outputs": [
    {
     "name": "stdout",
     "output_type": "stream",
     "text": [
      "7506\n"
     ]
    }
   ],
   "source": [
    "df_1 = df[df[\"is_fraud\"] == 0] \n",
    "df_0 = df[df[\"is_fraud\"] == 1]\n",
    "print(df_0.__len__())\n",
    "\n",
    "df_trimmed = df_1.sample(n=6142, random_state=69)\n",
    "len(df_trimmed)\n",
    "\n",
    "df_comb = pd.concat([df_trimmed, df_0])\n",
    "df_comb = df_comb.sample(frac = 1)"
   ]
  },
  {
   "cell_type": "code",
   "execution_count": 9,
   "id": "ff277621",
   "metadata": {
    "execution": {
     "iopub.execute_input": "2024-04-09T06:56:32.832201Z",
     "iopub.status.busy": "2024-04-09T06:56:32.831700Z",
     "iopub.status.idle": "2024-04-09T06:56:32.951274Z",
     "shell.execute_reply": "2024-04-09T06:56:32.949630Z"
    },
    "papermill": {
     "duration": 0.134887,
     "end_time": "2024-04-09T06:56:32.954804",
     "exception": false,
     "start_time": "2024-04-09T06:56:32.819917",
     "status": "completed"
    },
    "tags": []
   },
   "outputs": [],
   "source": [
    "X = df_comb.drop('is_fraud', axis=1).copy()\n",
    "y = df_comb['is_fraud'].copy()\n",
    "\n",
    "X_t = df_t.drop('is_fraud', axis=1).copy()\n",
    "y_t = df_t['is_fraud'].copy()"
   ]
  },
  {
   "cell_type": "code",
   "execution_count": 10,
   "id": "06cc53bf",
   "metadata": {
    "execution": {
     "iopub.execute_input": "2024-04-09T06:56:32.979628Z",
     "iopub.status.busy": "2024-04-09T06:56:32.978093Z",
     "iopub.status.idle": "2024-04-09T06:56:33.275470Z",
     "shell.execute_reply": "2024-04-09T06:56:33.274179Z"
    },
    "papermill": {
     "duration": 0.313115,
     "end_time": "2024-04-09T06:56:33.278305",
     "exception": false,
     "start_time": "2024-04-09T06:56:32.965190",
     "status": "completed"
    },
    "tags": []
   },
   "outputs": [
    {
     "name": "stdout",
     "output_type": "stream",
     "text": [
      "(555719, 16) (555719, 12)\n"
     ]
    },
    {
     "data": {
      "text/html": [
       "<div>\n",
       "<style scoped>\n",
       "    .dataframe tbody tr th:only-of-type {\n",
       "        vertical-align: middle;\n",
       "    }\n",
       "\n",
       "    .dataframe tbody tr th {\n",
       "        vertical-align: top;\n",
       "    }\n",
       "\n",
       "    .dataframe thead th {\n",
       "        text-align: right;\n",
       "    }\n",
       "</style>\n",
       "<table border=\"1\" class=\"dataframe\">\n",
       "  <thead>\n",
       "    <tr style=\"text-align: right;\">\n",
       "      <th></th>\n",
       "      <th>0</th>\n",
       "      <th>1</th>\n",
       "      <th>2</th>\n",
       "      <th>3</th>\n",
       "      <th>4</th>\n",
       "      <th>5</th>\n",
       "      <th>6</th>\n",
       "      <th>7</th>\n",
       "      <th>8</th>\n",
       "      <th>9</th>\n",
       "      <th>10</th>\n",
       "      <th>11</th>\n",
       "      <th>12</th>\n",
       "      <th>13</th>\n",
       "      <th>14</th>\n",
       "      <th>Unnamed: 0</th>\n",
       "    </tr>\n",
       "  </thead>\n",
       "  <tbody>\n",
       "    <tr>\n",
       "      <th>0</th>\n",
       "      <td>0.0</td>\n",
       "      <td>0.0</td>\n",
       "      <td>0.0</td>\n",
       "      <td>0.0</td>\n",
       "      <td>0.0</td>\n",
       "      <td>0.0</td>\n",
       "      <td>0.0</td>\n",
       "      <td>0.0</td>\n",
       "      <td>0.0</td>\n",
       "      <td>0.0</td>\n",
       "      <td>0.0</td>\n",
       "      <td>0.0</td>\n",
       "      <td>0.0</td>\n",
       "      <td>0.0</td>\n",
       "      <td>0.0</td>\n",
       "      <td>0.0</td>\n",
       "    </tr>\n",
       "    <tr>\n",
       "      <th>1</th>\n",
       "      <td>0.0</td>\n",
       "      <td>0.0</td>\n",
       "      <td>0.0</td>\n",
       "      <td>0.0</td>\n",
       "      <td>0.0</td>\n",
       "      <td>0.0</td>\n",
       "      <td>0.0</td>\n",
       "      <td>0.0</td>\n",
       "      <td>0.0</td>\n",
       "      <td>0.0</td>\n",
       "      <td>0.0</td>\n",
       "      <td>0.0</td>\n",
       "      <td>0.0</td>\n",
       "      <td>0.0</td>\n",
       "      <td>0.0</td>\n",
       "      <td>1.0</td>\n",
       "    </tr>\n",
       "    <tr>\n",
       "      <th>2</th>\n",
       "      <td>0.0</td>\n",
       "      <td>0.0</td>\n",
       "      <td>0.0</td>\n",
       "      <td>0.0</td>\n",
       "      <td>0.0</td>\n",
       "      <td>0.0</td>\n",
       "      <td>0.0</td>\n",
       "      <td>0.0</td>\n",
       "      <td>0.0</td>\n",
       "      <td>0.0</td>\n",
       "      <td>0.0</td>\n",
       "      <td>0.0</td>\n",
       "      <td>0.0</td>\n",
       "      <td>0.0</td>\n",
       "      <td>0.0</td>\n",
       "      <td>2.0</td>\n",
       "    </tr>\n",
       "    <tr>\n",
       "      <th>3</th>\n",
       "      <td>0.0</td>\n",
       "      <td>0.0</td>\n",
       "      <td>0.0</td>\n",
       "      <td>0.0</td>\n",
       "      <td>0.0</td>\n",
       "      <td>0.0</td>\n",
       "      <td>0.0</td>\n",
       "      <td>0.0</td>\n",
       "      <td>0.0</td>\n",
       "      <td>0.0</td>\n",
       "      <td>0.0</td>\n",
       "      <td>0.0</td>\n",
       "      <td>0.0</td>\n",
       "      <td>0.0</td>\n",
       "      <td>0.0</td>\n",
       "      <td>3.0</td>\n",
       "    </tr>\n",
       "    <tr>\n",
       "      <th>4</th>\n",
       "      <td>0.0</td>\n",
       "      <td>0.0</td>\n",
       "      <td>0.0</td>\n",
       "      <td>0.0</td>\n",
       "      <td>0.0</td>\n",
       "      <td>0.0</td>\n",
       "      <td>0.0</td>\n",
       "      <td>0.0</td>\n",
       "      <td>0.0</td>\n",
       "      <td>0.0</td>\n",
       "      <td>0.0</td>\n",
       "      <td>0.0</td>\n",
       "      <td>0.0</td>\n",
       "      <td>0.0</td>\n",
       "      <td>0.0</td>\n",
       "      <td>4.0</td>\n",
       "    </tr>\n",
       "    <tr>\n",
       "      <th>...</th>\n",
       "      <td>...</td>\n",
       "      <td>...</td>\n",
       "      <td>...</td>\n",
       "      <td>...</td>\n",
       "      <td>...</td>\n",
       "      <td>...</td>\n",
       "      <td>...</td>\n",
       "      <td>...</td>\n",
       "      <td>...</td>\n",
       "      <td>...</td>\n",
       "      <td>...</td>\n",
       "      <td>...</td>\n",
       "      <td>...</td>\n",
       "      <td>...</td>\n",
       "      <td>...</td>\n",
       "      <td>...</td>\n",
       "    </tr>\n",
       "    <tr>\n",
       "      <th>555714</th>\n",
       "      <td>0.0</td>\n",
       "      <td>0.0</td>\n",
       "      <td>0.0</td>\n",
       "      <td>0.0</td>\n",
       "      <td>0.0</td>\n",
       "      <td>0.0</td>\n",
       "      <td>0.0</td>\n",
       "      <td>0.0</td>\n",
       "      <td>0.0</td>\n",
       "      <td>0.0</td>\n",
       "      <td>0.0</td>\n",
       "      <td>0.0</td>\n",
       "      <td>0.0</td>\n",
       "      <td>0.0</td>\n",
       "      <td>0.0</td>\n",
       "      <td>555714.0</td>\n",
       "    </tr>\n",
       "    <tr>\n",
       "      <th>555715</th>\n",
       "      <td>0.0</td>\n",
       "      <td>0.0</td>\n",
       "      <td>0.0</td>\n",
       "      <td>0.0</td>\n",
       "      <td>0.0</td>\n",
       "      <td>0.0</td>\n",
       "      <td>0.0</td>\n",
       "      <td>0.0</td>\n",
       "      <td>0.0</td>\n",
       "      <td>0.0</td>\n",
       "      <td>0.0</td>\n",
       "      <td>0.0</td>\n",
       "      <td>0.0</td>\n",
       "      <td>0.0</td>\n",
       "      <td>0.0</td>\n",
       "      <td>555715.0</td>\n",
       "    </tr>\n",
       "    <tr>\n",
       "      <th>555716</th>\n",
       "      <td>0.0</td>\n",
       "      <td>0.0</td>\n",
       "      <td>0.0</td>\n",
       "      <td>0.0</td>\n",
       "      <td>0.0</td>\n",
       "      <td>0.0</td>\n",
       "      <td>0.0</td>\n",
       "      <td>0.0</td>\n",
       "      <td>0.0</td>\n",
       "      <td>0.0</td>\n",
       "      <td>0.0</td>\n",
       "      <td>0.0</td>\n",
       "      <td>0.0</td>\n",
       "      <td>0.0</td>\n",
       "      <td>0.0</td>\n",
       "      <td>555716.0</td>\n",
       "    </tr>\n",
       "    <tr>\n",
       "      <th>555717</th>\n",
       "      <td>0.0</td>\n",
       "      <td>0.0</td>\n",
       "      <td>0.0</td>\n",
       "      <td>0.0</td>\n",
       "      <td>0.0</td>\n",
       "      <td>0.0</td>\n",
       "      <td>0.0</td>\n",
       "      <td>0.0</td>\n",
       "      <td>0.0</td>\n",
       "      <td>0.0</td>\n",
       "      <td>0.0</td>\n",
       "      <td>0.0</td>\n",
       "      <td>0.0</td>\n",
       "      <td>0.0</td>\n",
       "      <td>0.0</td>\n",
       "      <td>555717.0</td>\n",
       "    </tr>\n",
       "    <tr>\n",
       "      <th>555718</th>\n",
       "      <td>0.0</td>\n",
       "      <td>0.0</td>\n",
       "      <td>0.0</td>\n",
       "      <td>0.0</td>\n",
       "      <td>0.0</td>\n",
       "      <td>0.0</td>\n",
       "      <td>0.0</td>\n",
       "      <td>0.0</td>\n",
       "      <td>0.0</td>\n",
       "      <td>0.0</td>\n",
       "      <td>0.0</td>\n",
       "      <td>0.0</td>\n",
       "      <td>0.0</td>\n",
       "      <td>0.0</td>\n",
       "      <td>0.0</td>\n",
       "      <td>555718.0</td>\n",
       "    </tr>\n",
       "  </tbody>\n",
       "</table>\n",
       "<p>555719 rows × 16 columns</p>\n",
       "</div>"
      ],
      "text/plain": [
       "          0    1    2    3    4    5    6    7    8    9   10   11   12   13  \\\n",
       "0       0.0  0.0  0.0  0.0  0.0  0.0  0.0  0.0  0.0  0.0  0.0  0.0  0.0  0.0   \n",
       "1       0.0  0.0  0.0  0.0  0.0  0.0  0.0  0.0  0.0  0.0  0.0  0.0  0.0  0.0   \n",
       "2       0.0  0.0  0.0  0.0  0.0  0.0  0.0  0.0  0.0  0.0  0.0  0.0  0.0  0.0   \n",
       "3       0.0  0.0  0.0  0.0  0.0  0.0  0.0  0.0  0.0  0.0  0.0  0.0  0.0  0.0   \n",
       "4       0.0  0.0  0.0  0.0  0.0  0.0  0.0  0.0  0.0  0.0  0.0  0.0  0.0  0.0   \n",
       "...     ...  ...  ...  ...  ...  ...  ...  ...  ...  ...  ...  ...  ...  ...   \n",
       "555714  0.0  0.0  0.0  0.0  0.0  0.0  0.0  0.0  0.0  0.0  0.0  0.0  0.0  0.0   \n",
       "555715  0.0  0.0  0.0  0.0  0.0  0.0  0.0  0.0  0.0  0.0  0.0  0.0  0.0  0.0   \n",
       "555716  0.0  0.0  0.0  0.0  0.0  0.0  0.0  0.0  0.0  0.0  0.0  0.0  0.0  0.0   \n",
       "555717  0.0  0.0  0.0  0.0  0.0  0.0  0.0  0.0  0.0  0.0  0.0  0.0  0.0  0.0   \n",
       "555718  0.0  0.0  0.0  0.0  0.0  0.0  0.0  0.0  0.0  0.0  0.0  0.0  0.0  0.0   \n",
       "\n",
       "         14  Unnamed: 0  \n",
       "0       0.0         0.0  \n",
       "1       0.0         1.0  \n",
       "2       0.0         2.0  \n",
       "3       0.0         3.0  \n",
       "4       0.0         4.0  \n",
       "...     ...         ...  \n",
       "555714  0.0    555714.0  \n",
       "555715  0.0    555715.0  \n",
       "555716  0.0    555716.0  \n",
       "555717  0.0    555717.0  \n",
       "555718  0.0    555718.0  \n",
       "\n",
       "[555719 rows x 16 columns]"
      ]
     },
     "execution_count": 10,
     "metadata": {},
     "output_type": "execute_result"
    }
   ],
   "source": [
    "df_15 = np.zeros(((len(X_t)), 15))\n",
    "# df_2 = np.zeros(((len(X)), 2))\n",
    "\n",
    "df_16 = np.hstack((df_15, X_t['Unnamed: 0'].to_numpy().reshape(-1, 1)))\n",
    "# df_3 = np.hstack((df_2, X['Unnamed: 0'].to_numpy().reshape(-1, 1)))\n",
    "\n",
    "df_16 = pd.DataFrame(df_16)\n",
    "# df_3 = pd.DataFrame(df_3)\n",
    "\n",
    "print(df_16.shape, X_t.shape)\n",
    "df_16 = df_16.rename(columns = {15: \"Unnamed: 0\"})\n",
    "df_16"
   ]
  },
  {
   "cell_type": "code",
   "execution_count": 11,
   "id": "46d0ad04",
   "metadata": {
    "execution": {
     "iopub.execute_input": "2024-04-09T06:56:33.303224Z",
     "iopub.status.busy": "2024-04-09T06:56:33.301993Z",
     "iopub.status.idle": "2024-04-09T06:56:33.307955Z",
     "shell.execute_reply": "2024-04-09T06:56:33.306619Z"
    },
    "papermill": {
     "duration": 0.021223,
     "end_time": "2024-04-09T06:56:33.311000",
     "exception": false,
     "start_time": "2024-04-09T06:56:33.289777",
     "status": "completed"
    },
    "tags": []
   },
   "outputs": [],
   "source": [
    "#X_tf = pd.merge_ordered(X_t, df_16, fill_method=\"ffill\", left_by=\"job\")"
   ]
  },
  {
   "cell_type": "code",
   "execution_count": 12,
   "id": "d9d74d45",
   "metadata": {
    "execution": {
     "iopub.execute_input": "2024-04-09T06:56:33.335911Z",
     "iopub.status.busy": "2024-04-09T06:56:33.334480Z",
     "iopub.status.idle": "2024-04-09T06:56:33.400665Z",
     "shell.execute_reply": "2024-04-09T06:56:33.399396Z"
    },
    "papermill": {
     "duration": 0.081274,
     "end_time": "2024-04-09T06:56:33.403556",
     "exception": false,
     "start_time": "2024-04-09T06:56:33.322282",
     "status": "completed"
    },
    "tags": []
   },
   "outputs": [],
   "source": [
    "ct = ColumnTransformer([\n",
    "    (\"Text\", OneHotEncoder(), [\"merchant\", \"job\", \"category\"]),\n",
    "    (\"Num\", StandardScaler(), ['zip', 'amt', 'lat', 'long', 'unix_time', 'merch_lat', 'merch_long', 'city_pop'])\n",
    "])\n",
    "\n",
    "X_enc = ct.fit_transform(X)\n",
    "# X_tenc = ct.fit_transform(X_t)"
   ]
  },
  {
   "cell_type": "code",
   "execution_count": 13,
   "id": "85c2e256",
   "metadata": {
    "execution": {
     "iopub.execute_input": "2024-04-09T06:56:33.427199Z",
     "iopub.status.busy": "2024-04-09T06:56:33.426297Z",
     "iopub.status.idle": "2024-04-09T06:56:33.441834Z",
     "shell.execute_reply": "2024-04-09T06:56:33.440440Z"
    },
    "papermill": {
     "duration": 0.031164,
     "end_time": "2024-04-09T06:56:33.445230",
     "exception": false,
     "start_time": "2024-04-09T06:56:33.414066",
     "status": "completed"
    },
    "tags": []
   },
   "outputs": [],
   "source": [
    "X_train, X_test, y_train, y_test = train_test_split(X_enc, y)"
   ]
  },
  {
   "cell_type": "code",
   "execution_count": 14,
   "id": "667115f7",
   "metadata": {
    "execution": {
     "iopub.execute_input": "2024-04-09T06:56:33.469447Z",
     "iopub.status.busy": "2024-04-09T06:56:33.468976Z",
     "iopub.status.idle": "2024-04-09T06:56:33.553825Z",
     "shell.execute_reply": "2024-04-09T06:56:33.552562Z"
    },
    "papermill": {
     "duration": 0.101092,
     "end_time": "2024-04-09T06:56:33.557011",
     "exception": false,
     "start_time": "2024-04-09T06:56:33.455919",
     "status": "completed"
    },
    "tags": []
   },
   "outputs": [
    {
     "data": {
      "text/html": [
       "<style>#sk-container-id-1 {color: black;background-color: white;}#sk-container-id-1 pre{padding: 0;}#sk-container-id-1 div.sk-toggleable {background-color: white;}#sk-container-id-1 label.sk-toggleable__label {cursor: pointer;display: block;width: 100%;margin-bottom: 0;padding: 0.3em;box-sizing: border-box;text-align: center;}#sk-container-id-1 label.sk-toggleable__label-arrow:before {content: \"▸\";float: left;margin-right: 0.25em;color: #696969;}#sk-container-id-1 label.sk-toggleable__label-arrow:hover:before {color: black;}#sk-container-id-1 div.sk-estimator:hover label.sk-toggleable__label-arrow:before {color: black;}#sk-container-id-1 div.sk-toggleable__content {max-height: 0;max-width: 0;overflow: hidden;text-align: left;background-color: #f0f8ff;}#sk-container-id-1 div.sk-toggleable__content pre {margin: 0.2em;color: black;border-radius: 0.25em;background-color: #f0f8ff;}#sk-container-id-1 input.sk-toggleable__control:checked~div.sk-toggleable__content {max-height: 200px;max-width: 100%;overflow: auto;}#sk-container-id-1 input.sk-toggleable__control:checked~label.sk-toggleable__label-arrow:before {content: \"▾\";}#sk-container-id-1 div.sk-estimator input.sk-toggleable__control:checked~label.sk-toggleable__label {background-color: #d4ebff;}#sk-container-id-1 div.sk-label input.sk-toggleable__control:checked~label.sk-toggleable__label {background-color: #d4ebff;}#sk-container-id-1 input.sk-hidden--visually {border: 0;clip: rect(1px 1px 1px 1px);clip: rect(1px, 1px, 1px, 1px);height: 1px;margin: -1px;overflow: hidden;padding: 0;position: absolute;width: 1px;}#sk-container-id-1 div.sk-estimator {font-family: monospace;background-color: #f0f8ff;border: 1px dotted black;border-radius: 0.25em;box-sizing: border-box;margin-bottom: 0.5em;}#sk-container-id-1 div.sk-estimator:hover {background-color: #d4ebff;}#sk-container-id-1 div.sk-parallel-item::after {content: \"\";width: 100%;border-bottom: 1px solid gray;flex-grow: 1;}#sk-container-id-1 div.sk-label:hover label.sk-toggleable__label {background-color: #d4ebff;}#sk-container-id-1 div.sk-serial::before {content: \"\";position: absolute;border-left: 1px solid gray;box-sizing: border-box;top: 0;bottom: 0;left: 50%;z-index: 0;}#sk-container-id-1 div.sk-serial {display: flex;flex-direction: column;align-items: center;background-color: white;padding-right: 0.2em;padding-left: 0.2em;position: relative;}#sk-container-id-1 div.sk-item {position: relative;z-index: 1;}#sk-container-id-1 div.sk-parallel {display: flex;align-items: stretch;justify-content: center;background-color: white;position: relative;}#sk-container-id-1 div.sk-item::before, #sk-container-id-1 div.sk-parallel-item::before {content: \"\";position: absolute;border-left: 1px solid gray;box-sizing: border-box;top: 0;bottom: 0;left: 50%;z-index: -1;}#sk-container-id-1 div.sk-parallel-item {display: flex;flex-direction: column;z-index: 1;position: relative;background-color: white;}#sk-container-id-1 div.sk-parallel-item:first-child::after {align-self: flex-end;width: 50%;}#sk-container-id-1 div.sk-parallel-item:last-child::after {align-self: flex-start;width: 50%;}#sk-container-id-1 div.sk-parallel-item:only-child::after {width: 0;}#sk-container-id-1 div.sk-dashed-wrapped {border: 1px dashed gray;margin: 0 0.4em 0.5em 0.4em;box-sizing: border-box;padding-bottom: 0.4em;background-color: white;}#sk-container-id-1 div.sk-label label {font-family: monospace;font-weight: bold;display: inline-block;line-height: 1.2em;}#sk-container-id-1 div.sk-label-container {text-align: center;}#sk-container-id-1 div.sk-container {/* jupyter's `normalize.less` sets `[hidden] { display: none; }` but bootstrap.min.css set `[hidden] { display: none !important; }` so we also need the `!important` here to be able to override the default hidden behavior on the sphinx rendered scikit-learn.org. See: https://github.com/scikit-learn/scikit-learn/issues/21755 */display: inline-block !important;position: relative;}#sk-container-id-1 div.sk-text-repr-fallback {display: none;}</style><div id=\"sk-container-id-1\" class=\"sk-top-container\"><div class=\"sk-text-repr-fallback\"><pre>SGDClassifier(loss=&#x27;log_loss&#x27;, max_iter=10000, random_state=42)</pre><b>In a Jupyter environment, please rerun this cell to show the HTML representation or trust the notebook. <br />On GitHub, the HTML representation is unable to render, please try loading this page with nbviewer.org.</b></div><div class=\"sk-container\" hidden><div class=\"sk-item\"><div class=\"sk-estimator sk-toggleable\"><input class=\"sk-toggleable__control sk-hidden--visually\" id=\"sk-estimator-id-1\" type=\"checkbox\" checked><label for=\"sk-estimator-id-1\" class=\"sk-toggleable__label sk-toggleable__label-arrow\">SGDClassifier</label><div class=\"sk-toggleable__content\"><pre>SGDClassifier(loss=&#x27;log_loss&#x27;, max_iter=10000, random_state=42)</pre></div></div></div></div></div>"
      ],
      "text/plain": [
       "SGDClassifier(loss='log_loss', max_iter=10000, random_state=42)"
      ]
     },
     "execution_count": 14,
     "metadata": {},
     "output_type": "execute_result"
    }
   ],
   "source": [
    "Sclf = SGDClassifier(random_state=42, loss='log_loss', penalty='l2', max_iter=10000)\n",
    "Sclf.fit(X_train, y_train)"
   ]
  },
  {
   "cell_type": "code",
   "execution_count": 15,
   "id": "33772d42",
   "metadata": {
    "execution": {
     "iopub.execute_input": "2024-04-09T06:56:33.581075Z",
     "iopub.status.busy": "2024-04-09T06:56:33.580606Z",
     "iopub.status.idle": "2024-04-09T06:56:33.587479Z",
     "shell.execute_reply": "2024-04-09T06:56:33.586040Z"
    },
    "papermill": {
     "duration": 0.022569,
     "end_time": "2024-04-09T06:56:33.590555",
     "exception": false,
     "start_time": "2024-04-09T06:56:33.567986",
     "status": "completed"
    },
    "tags": []
   },
   "outputs": [],
   "source": [
    "y_pred = Sclf.predict(X_test)"
   ]
  },
  {
   "cell_type": "code",
   "execution_count": 16,
   "id": "cc09d6ca",
   "metadata": {
    "execution": {
     "iopub.execute_input": "2024-04-09T06:56:33.613987Z",
     "iopub.status.busy": "2024-04-09T06:56:33.613510Z",
     "iopub.status.idle": "2024-04-09T06:56:34.001264Z",
     "shell.execute_reply": "2024-04-09T06:56:33.999906Z"
    },
    "papermill": {
     "duration": 0.403366,
     "end_time": "2024-04-09T06:56:34.004404",
     "exception": false,
     "start_time": "2024-04-09T06:56:33.601038",
     "status": "completed"
    },
    "tags": []
   },
   "outputs": [
    {
     "data": {
      "text/plain": [
       "<sklearn.metrics._plot.confusion_matrix.ConfusionMatrixDisplay at 0x7b64af61a5c0>"
      ]
     },
     "execution_count": 16,
     "metadata": {},
     "output_type": "execute_result"
    },
    {
     "data": {
      "image/png": "[encoded data removed]",
      "text/plain": [
       "<Figure size 640x480 with 2 Axes>"
      ]
     },
     "metadata": {},
     "output_type": "display_data"
    }
   ],
   "source": [
    "cm = confusion_matrix(y_test, y_pred)\n",
    "cmd = ConfusionMatrixDisplay(cm, display_labels=['Not_Fraud', 'Fraud'])\n",
    "cmd.plot()"
   ]
  },
  {
   "cell_type": "code",
   "execution_count": 17,
   "id": "68fb346f",
   "metadata": {
    "execution": {
     "iopub.execute_input": "2024-04-09T06:56:34.029765Z",
     "iopub.status.busy": "2024-04-09T06:56:34.028331Z",
     "iopub.status.idle": "2024-04-09T06:56:34.094299Z",
     "shell.execute_reply": "2024-04-09T06:56:34.092780Z"
    },
    "papermill": {
     "duration": 0.082231,
     "end_time": "2024-04-09T06:56:34.097716",
     "exception": false,
     "start_time": "2024-04-09T06:56:34.015485",
     "status": "completed"
    },
    "tags": []
   },
   "outputs": [],
   "source": [
    "y_scores = cross_val_predict(Sclf, X_test, y_test, cv=3, method=\"decision_function\")"
   ]
  },
  {
   "cell_type": "code",
   "execution_count": 18,
   "id": "317982cb",
   "metadata": {
    "execution": {
     "iopub.execute_input": "2024-04-09T06:56:34.123413Z",
     "iopub.status.busy": "2024-04-09T06:56:34.122891Z",
     "iopub.status.idle": "2024-04-09T06:56:34.403536Z",
     "shell.execute_reply": "2024-04-09T06:56:34.402013Z"
    },
    "papermill": {
     "duration": 0.298118,
     "end_time": "2024-04-09T06:56:34.407580",
     "exception": false,
     "start_time": "2024-04-09T06:56:34.109462",
     "status": "completed"
    },
    "tags": []
   },
   "outputs": [
    {
     "data": {
      "image/png": "[encoded data removed]",
      "text/plain": [
       "<Figure size 640x480 with 1 Axes>"
      ]
     },
     "metadata": {},
     "output_type": "display_data"
    }
   ],
   "source": [
    "precisions, recalls, thresholds = precision_recall_curve(y_test, y_scores)\n",
    "\n",
    "plt.plot(thresholds, precisions[:-1], \"b--\", label=\"Precision\", linewidth=2)\n",
    "plt.plot(thresholds, recalls[:-1], \"g-\", label=\"Recall\", linewidth=2)\n",
    "plt.vlines(0, 0, 1.0, \"k\", \"dotted\", label=\"threshold\")\n",
    "plt.show()"
   ]
  },
  {
   "cell_type": "code",
   "execution_count": 19,
   "id": "9d3bcc1f",
   "metadata": {
    "execution": {
     "iopub.execute_input": "2024-04-09T06:56:34.433441Z",
     "iopub.status.busy": "2024-04-09T06:56:34.432966Z",
     "iopub.status.idle": "2024-04-09T06:56:34.700307Z",
     "shell.execute_reply": "2024-04-09T06:56:34.697294Z"
    },
    "papermill": {
     "duration": 0.284437,
     "end_time": "2024-04-09T06:56:34.703600",
     "exception": false,
     "start_time": "2024-04-09T06:56:34.419163",
     "status": "completed"
    },
    "tags": []
   },
   "outputs": [
    {
     "data": {
      "image/png": "[encoded data removed]",
      "text/plain": [
       "<Figure size 640x480 with 1 Axes>"
      ]
     },
     "metadata": {},
     "output_type": "display_data"
    }
   ],
   "source": [
    "plt.plot(recalls, precisions, linewidth=2, label=\"Precision/Recall curve\")\n",
    "plt.show()"
   ]
  },
  {
   "cell_type": "code",
   "execution_count": 20,
   "id": "760e3eaa",
   "metadata": {
    "execution": {
     "iopub.execute_input": "2024-04-09T06:56:34.730619Z",
     "iopub.status.busy": "2024-04-09T06:56:34.729974Z",
     "iopub.status.idle": "2024-04-09T06:56:34.739994Z",
     "shell.execute_reply": "2024-04-09T06:56:34.738673Z"
    },
    "papermill": {
     "duration": 0.026915,
     "end_time": "2024-04-09T06:56:34.742917",
     "exception": false,
     "start_time": "2024-04-09T06:56:34.716002",
     "status": "completed"
    },
    "tags": []
   },
   "outputs": [
    {
     "data": {
      "text/plain": [
       "-2.112238314353098"
      ]
     },
     "execution_count": 20,
     "metadata": {},
     "output_type": "execute_result"
    }
   ],
   "source": [
    "rec40 = (recalls <= 0.95).argmax()\n",
    "t40 = thresholds[rec40]\n",
    "t40"
   ]
  },
  {
   "cell_type": "code",
   "execution_count": 21,
   "id": "f8903b80",
   "metadata": {
    "execution": {
     "iopub.execute_input": "2024-04-09T06:56:34.770816Z",
     "iopub.status.busy": "2024-04-09T06:56:34.769899Z",
     "iopub.status.idle": "2024-04-09T06:56:34.788401Z",
     "shell.execute_reply": "2024-04-09T06:56:34.787375Z"
    },
    "papermill": {
     "duration": 0.035793,
     "end_time": "2024-04-09T06:56:34.791098",
     "exception": false,
     "start_time": "2024-04-09T06:56:34.755305",
     "status": "completed"
    },
    "tags": []
   },
   "outputs": [
    {
     "name": "stdout",
     "output_type": "stream",
     "text": [
      "0.9496518478843063\n",
      "0.6723549488054608\n"
     ]
    }
   ],
   "source": [
    "y_test_rec_40 = (y_scores >= t40)\n",
    "print(recall_score(y_test, y_test_rec_40))\n",
    "print(precision_score(y_test, y_test_rec_40))"
   ]
  },
  {
   "cell_type": "code",
   "execution_count": 22,
   "id": "d5bc3373",
   "metadata": {
    "execution": {
     "iopub.execute_input": "2024-04-09T06:56:34.819460Z",
     "iopub.status.busy": "2024-04-09T06:56:34.818494Z",
     "iopub.status.idle": "2024-04-09T06:57:18.438771Z",
     "shell.execute_reply": "2024-04-09T06:57:18.437730Z"
    },
    "papermill": {
     "duration": 43.637469,
     "end_time": "2024-04-09T06:57:18.441795",
     "exception": false,
     "start_time": "2024-04-09T06:56:34.804326",
     "status": "completed"
    },
    "tags": []
   },
   "outputs": [],
   "source": [
    "clf_dt = DecisionTreeClassifier(random_state=42)\n",
    "clf_dt = clf_dt.fit(X_train, y_train)\n",
    "\n",
    "path = clf_dt.cost_complexity_pruning_path(X_train, y_train)\n",
    "ccp_alphas = path.ccp_alphas\n",
    "ccp_alphas = ccp_alphas[:-1]\n",
    "\n",
    "clf_dts = []\n",
    "\n",
    "for i in ccp_alphas:\n",
    "    clf_dt = DecisionTreeClassifier(random_state=0, ccp_alpha=i)\n",
    "    clf_dt.fit(X_train, y_train)\n",
    "    clf_dts.append(clf_dt)"
   ]
  },
  {
   "cell_type": "code",
   "execution_count": 23,
   "id": "15a20907",
   "metadata": {
    "execution": {
     "iopub.execute_input": "2024-04-09T06:57:18.469434Z",
     "iopub.status.busy": "2024-04-09T06:57:18.468726Z",
     "iopub.status.idle": "2024-04-09T06:57:19.697571Z",
     "shell.execute_reply": "2024-04-09T06:57:19.696271Z"
    },
    "papermill": {
     "duration": 1.246034,
     "end_time": "2024-04-09T06:57:19.700885",
     "exception": false,
     "start_time": "2024-04-09T06:57:18.454851",
     "status": "completed"
    },
    "tags": []
   },
   "outputs": [
    {
     "data": {
      "image/png": "[encoded data removed]",
      "text/plain": [
       "<Figure size 640x480 with 1 Axes>"
      ]
     },
     "metadata": {},
     "output_type": "display_data"
    }
   ],
   "source": [
    "train_scores = [clf_dt.score(X_train, y_train) for clf_dt in clf_dts]\n",
    "test_scores = [clf_dt.score(X_test, y_test) for clf_dt in clf_dts]\n",
    "\n",
    "fig, ax = plt.subplots()\n",
    "ax.set_xlabel('alpha')\n",
    "ax.set_ylabel('accuracy')\n",
    "ax.set_title('Accuracy vs alpha for training and test sets')\n",
    "ax.plot(ccp_alphas, train_scores, marker='o', label='train', drawstyle='steps-post')\n",
    "ax.plot(ccp_alphas, test_scores, marker='o', label='test', drawstyle='steps-post')\n",
    "ax.legend()\n",
    "plt.show()"
   ]
  },
  {
   "cell_type": "code",
   "execution_count": 24,
   "id": "ac064f91",
   "metadata": {
    "execution": {
     "iopub.execute_input": "2024-04-09T06:57:19.729047Z",
     "iopub.status.busy": "2024-04-09T06:57:19.728578Z",
     "iopub.status.idle": "2024-04-09T06:57:21.275290Z",
     "shell.execute_reply": "2024-04-09T06:57:21.273986Z"
    },
    "papermill": {
     "duration": 1.564047,
     "end_time": "2024-04-09T06:57:21.277933",
     "exception": false,
     "start_time": "2024-04-09T06:57:19.713886",
     "status": "completed"
    },
    "tags": []
   },
   "outputs": [
    {
     "data": {
      "text/plain": [
       "<Axes: xlabel='tree'>"
      ]
     },
     "execution_count": 24,
     "metadata": {},
     "output_type": "execute_result"
    },
    {
     "data": {
      "image/png": "[encoded data removed]",
      "text/plain": [
       "<Figure size 640x480 with 1 Axes>"
      ]
     },
     "metadata": {},
     "output_type": "display_data"
    }
   ],
   "source": [
    "clf_dt = DecisionTreeClassifier(random_state=42, ccp_alpha=0.0075)\n",
    "\n",
    "scores = cross_val_score(clf_dt, X_train, y_train, cv=5)\n",
    "df = pd.DataFrame(data={'tree': range(5), 'accuracy':scores})\n",
    "\n",
    "df.plot(x='tree', y='accuracy', marker='o', linestyle='--')"
   ]
  }
 ],
 "metadata": {
  "kaggle": {
   "accelerator": "none",
   "dataSources": [
    {
     "datasetId": 817870,
     "sourceId": 1399887,
     "sourceType": "datasetVersion"
    }
   ],
   "dockerImageVersionId": 30673,
   "isGpuEnabled": false,
   "isInternetEnabled": false,
   "language": "python",
   "sourceType": "notebook"
  },
  "kernelspec": {
   "display_name": "Python 3",
   "language": "python",
   "name": "python3"
  },
  "language_info": {
   "codemirror_mode": {
    "name": "ipython",
    "version": 3
   },
   "file_extension": ".py",
   "mimetype": "text/x-python",
   "name": "python",
   "nbconvert_exporter": "python",
   "pygments_lexer": "ipython3",
   "version": "3.10.13"
  },
  "papermill": {
   "default_parameters": {},
   "duration": 83.19125,
   "end_time": "2024-04-09T06:57:22.318473",
   "environment_variables": {},
   "exception": null,
   "input_path": "__notebook__.ipynb",
   "output_path": "__notebook__.ipynb",
   "parameters": {},
   "start_time": "2024-04-09T06:55:59.127223",
   "version": "2.5.0"
  }
 },
 "nbformat": 4,
 "nbformat_minor": 5
}
