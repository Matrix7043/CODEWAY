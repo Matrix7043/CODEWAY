{
 "cells": [
  {
   "cell_type": "code",
   "execution_count": 1,
   "id": "f2d26f1f",
   "metadata": {
    "_cell_guid": "b1076dfc-b9ad-4769-8c92-a6c4dae69d19",
    "_uuid": "8f2839f25d086af736a60e9eeb907d3b93b6e0e5",
    "execution": {
     "iopub.execute_input": "2024-04-09T13:48:10.817354Z",
     "iopub.status.busy": "2024-04-09T13:48:10.816063Z",
     "iopub.status.idle": "2024-04-09T13:48:14.189162Z",
     "shell.execute_reply": "2024-04-09T13:48:14.187704Z"
    },
    "papermill": {
     "duration": 3.387862,
     "end_time": "2024-04-09T13:48:14.192350",
     "exception": false,
     "start_time": "2024-04-09T13:48:10.804488",
     "status": "completed"
    },
    "tags": []
   },
   "outputs": [],
   "source": [
    "import numpy as np \n",
    "import pandas as pd\n",
    "import matplotlib.pyplot as plt\n",
    "from sklearn.preprocessing import StandardScaler, OneHotEncoder\n",
    "from sklearn.preprocessing import FunctionTransformer\n",
    "from sklearn.compose import ColumnTransformer\n",
    "from sklearn.model_selection import train_test_split\n",
    "from sklearn.model_selection import GridSearchCV\n",
    "from sklearn.metrics import confusion_matrix\n",
    "from sklearn.metrics import ConfusionMatrixDisplay\n",
    "from sklearn.linear_model import SGDClassifier, LogisticRegression\n",
    "from sklearn.metrics import precision_recall_curve\n",
    "from sklearn.model_selection import cross_val_predict\n",
    "from sklearn.metrics import precision_score, recall_score\n",
    "from sklearn.model_selection import cross_val_score\n",
    "from sklearn.tree import DecisionTreeClassifier\n",
    "from sklearn.tree import plot_tree\n",
    "from sklearn.svm import SVC"
   ]
  },
  {
   "cell_type": "code",
   "execution_count": 2,
   "id": "0d1e46bf",
   "metadata": {
    "execution": {
     "iopub.execute_input": "2024-04-09T13:48:14.215787Z",
     "iopub.status.busy": "2024-04-09T13:48:14.213112Z",
     "iopub.status.idle": "2024-04-09T13:48:14.221397Z",
     "shell.execute_reply": "2024-04-09T13:48:14.220000Z"
    },
    "papermill": {
     "duration": 0.022238,
     "end_time": "2024-04-09T13:48:14.224424",
     "exception": false,
     "start_time": "2024-04-09T13:48:14.202186",
     "status": "completed"
    },
    "tags": []
   },
   "outputs": [],
   "source": [
    "def linear(x: np.ndarray) -> np.ndarray:\n",
    "    return x"
   ]
  },
  {
   "cell_type": "code",
   "execution_count": 3,
   "id": "d6d2fa06",
   "metadata": {
    "execution": {
     "iopub.execute_input": "2024-04-09T13:48:14.244443Z",
     "iopub.status.busy": "2024-04-09T13:48:14.243891Z",
     "iopub.status.idle": "2024-04-09T13:48:14.341512Z",
     "shell.execute_reply": "2024-04-09T13:48:14.340157Z"
    },
    "papermill": {
     "duration": 0.111907,
     "end_time": "2024-04-09T13:48:14.345136",
     "exception": false,
     "start_time": "2024-04-09T13:48:14.233229",
     "status": "completed"
    },
    "tags": []
   },
   "outputs": [
    {
     "name": "stdout",
     "output_type": "stream",
     "text": [
      "<class 'pandas.core.frame.DataFrame'>\n",
      "RangeIndex: 10000 entries, 0 to 9999\n",
      "Data columns (total 14 columns):\n",
      " #   Column           Non-Null Count  Dtype  \n",
      "---  ------           --------------  -----  \n",
      " 0   RowNumber        10000 non-null  int64  \n",
      " 1   CustomerId       10000 non-null  int64  \n",
      " 2   Surname          10000 non-null  object \n",
      " 3   CreditScore      10000 non-null  int64  \n",
      " 4   Geography        10000 non-null  object \n",
      " 5   Gender           10000 non-null  object \n",
      " 6   Age              10000 non-null  int64  \n",
      " 7   Tenure           10000 non-null  int64  \n",
      " 8   Balance          10000 non-null  float64\n",
      " 9   NumOfProducts    10000 non-null  int64  \n",
      " 10  HasCrCard        10000 non-null  int64  \n",
      " 11  IsActiveMember   10000 non-null  int64  \n",
      " 12  EstimatedSalary  10000 non-null  float64\n",
      " 13  Exited           10000 non-null  int64  \n",
      "dtypes: float64(2), int64(9), object(3)\n",
      "memory usage: 1.1+ MB\n"
     ]
    }
   ],
   "source": [
    "df = pd.read_csv(r\"/kaggle/input/bank-customer-churn-prediction-dataset/Churn_Modelling.csv\")\n",
    "df.info()"
   ]
  },
  {
   "cell_type": "code",
   "execution_count": 4,
   "id": "b453b1c4",
   "metadata": {
    "execution": {
     "iopub.execute_input": "2024-04-09T13:48:14.365853Z",
     "iopub.status.busy": "2024-04-09T13:48:14.365002Z",
     "iopub.status.idle": "2024-04-09T13:48:14.531212Z",
     "shell.execute_reply": "2024-04-09T13:48:14.529820Z"
    },
    "papermill": {
     "duration": 0.179736,
     "end_time": "2024-04-09T13:48:14.533956",
     "exception": false,
     "start_time": "2024-04-09T13:48:14.354220",
     "status": "completed"
    },
    "tags": []
   },
   "outputs": [
    {
     "data": {
      "text/html": [
       "<div>\n",
       "<style scoped>\n",
       "    .dataframe tbody tr th:only-of-type {\n",
       "        vertical-align: middle;\n",
       "    }\n",
       "\n",
       "    .dataframe tbody tr th {\n",
       "        vertical-align: top;\n",
       "    }\n",
       "\n",
       "    .dataframe thead th {\n",
       "        text-align: right;\n",
       "    }\n",
       "</style>\n",
       "<table border=\"1\" class=\"dataframe\">\n",
       "  <thead>\n",
       "    <tr style=\"text-align: right;\">\n",
       "      <th></th>\n",
       "      <th>RowNumber</th>\n",
       "      <th>CustomerId</th>\n",
       "      <th>Surname</th>\n",
       "      <th>CreditScore</th>\n",
       "      <th>Geography</th>\n",
       "      <th>Gender</th>\n",
       "      <th>Age</th>\n",
       "      <th>Tenure</th>\n",
       "      <th>Balance</th>\n",
       "      <th>NumOfProducts</th>\n",
       "      <th>HasCrCard</th>\n",
       "      <th>IsActiveMember</th>\n",
       "      <th>EstimatedSalary</th>\n",
       "      <th>Exited</th>\n",
       "    </tr>\n",
       "  </thead>\n",
       "  <tbody>\n",
       "    <tr>\n",
       "      <th>0</th>\n",
       "      <td>1</td>\n",
       "      <td>15634602</td>\n",
       "      <td>Hargrave</td>\n",
       "      <td>619</td>\n",
       "      <td>France</td>\n",
       "      <td>Female</td>\n",
       "      <td>42</td>\n",
       "      <td>2</td>\n",
       "      <td>0.00</td>\n",
       "      <td>1</td>\n",
       "      <td>1</td>\n",
       "      <td>1</td>\n",
       "      <td>101348.88</td>\n",
       "      <td>1</td>\n",
       "    </tr>\n",
       "    <tr>\n",
       "      <th>1</th>\n",
       "      <td>2</td>\n",
       "      <td>15647311</td>\n",
       "      <td>Hill</td>\n",
       "      <td>608</td>\n",
       "      <td>Spain</td>\n",
       "      <td>Female</td>\n",
       "      <td>41</td>\n",
       "      <td>1</td>\n",
       "      <td>83807.86</td>\n",
       "      <td>1</td>\n",
       "      <td>0</td>\n",
       "      <td>1</td>\n",
       "      <td>112542.58</td>\n",
       "      <td>0</td>\n",
       "    </tr>\n",
       "    <tr>\n",
       "      <th>2</th>\n",
       "      <td>3</td>\n",
       "      <td>15619304</td>\n",
       "      <td>Onio</td>\n",
       "      <td>502</td>\n",
       "      <td>France</td>\n",
       "      <td>Female</td>\n",
       "      <td>42</td>\n",
       "      <td>8</td>\n",
       "      <td>159660.80</td>\n",
       "      <td>3</td>\n",
       "      <td>1</td>\n",
       "      <td>0</td>\n",
       "      <td>113931.57</td>\n",
       "      <td>1</td>\n",
       "    </tr>\n",
       "    <tr>\n",
       "      <th>3</th>\n",
       "      <td>4</td>\n",
       "      <td>15701354</td>\n",
       "      <td>Boni</td>\n",
       "      <td>699</td>\n",
       "      <td>France</td>\n",
       "      <td>Female</td>\n",
       "      <td>39</td>\n",
       "      <td>1</td>\n",
       "      <td>0.00</td>\n",
       "      <td>2</td>\n",
       "      <td>0</td>\n",
       "      <td>0</td>\n",
       "      <td>93826.63</td>\n",
       "      <td>0</td>\n",
       "    </tr>\n",
       "    <tr>\n",
       "      <th>4</th>\n",
       "      <td>5</td>\n",
       "      <td>15737888</td>\n",
       "      <td>Mitchell</td>\n",
       "      <td>850</td>\n",
       "      <td>Spain</td>\n",
       "      <td>Female</td>\n",
       "      <td>43</td>\n",
       "      <td>2</td>\n",
       "      <td>125510.82</td>\n",
       "      <td>1</td>\n",
       "      <td>1</td>\n",
       "      <td>1</td>\n",
       "      <td>79084.10</td>\n",
       "      <td>0</td>\n",
       "    </tr>\n",
       "    <tr>\n",
       "      <th>...</th>\n",
       "      <td>...</td>\n",
       "      <td>...</td>\n",
       "      <td>...</td>\n",
       "      <td>...</td>\n",
       "      <td>...</td>\n",
       "      <td>...</td>\n",
       "      <td>...</td>\n",
       "      <td>...</td>\n",
       "      <td>...</td>\n",
       "      <td>...</td>\n",
       "      <td>...</td>\n",
       "      <td>...</td>\n",
       "      <td>...</td>\n",
       "      <td>...</td>\n",
       "    </tr>\n",
       "    <tr>\n",
       "      <th>9995</th>\n",
       "      <td>9996</td>\n",
       "      <td>15606229</td>\n",
       "      <td>Obijiaku</td>\n",
       "      <td>771</td>\n",
       "      <td>France</td>\n",
       "      <td>Male</td>\n",
       "      <td>39</td>\n",
       "      <td>5</td>\n",
       "      <td>0.00</td>\n",
       "      <td>2</td>\n",
       "      <td>1</td>\n",
       "      <td>0</td>\n",
       "      <td>96270.64</td>\n",
       "      <td>0</td>\n",
       "    </tr>\n",
       "    <tr>\n",
       "      <th>9996</th>\n",
       "      <td>9997</td>\n",
       "      <td>15569892</td>\n",
       "      <td>Johnstone</td>\n",
       "      <td>516</td>\n",
       "      <td>France</td>\n",
       "      <td>Male</td>\n",
       "      <td>35</td>\n",
       "      <td>10</td>\n",
       "      <td>57369.61</td>\n",
       "      <td>1</td>\n",
       "      <td>1</td>\n",
       "      <td>1</td>\n",
       "      <td>101699.77</td>\n",
       "      <td>0</td>\n",
       "    </tr>\n",
       "    <tr>\n",
       "      <th>9997</th>\n",
       "      <td>9998</td>\n",
       "      <td>15584532</td>\n",
       "      <td>Liu</td>\n",
       "      <td>709</td>\n",
       "      <td>France</td>\n",
       "      <td>Female</td>\n",
       "      <td>36</td>\n",
       "      <td>7</td>\n",
       "      <td>0.00</td>\n",
       "      <td>1</td>\n",
       "      <td>0</td>\n",
       "      <td>1</td>\n",
       "      <td>42085.58</td>\n",
       "      <td>1</td>\n",
       "    </tr>\n",
       "    <tr>\n",
       "      <th>9998</th>\n",
       "      <td>9999</td>\n",
       "      <td>15682355</td>\n",
       "      <td>Sabbatini</td>\n",
       "      <td>772</td>\n",
       "      <td>Germany</td>\n",
       "      <td>Male</td>\n",
       "      <td>42</td>\n",
       "      <td>3</td>\n",
       "      <td>75075.31</td>\n",
       "      <td>2</td>\n",
       "      <td>1</td>\n",
       "      <td>0</td>\n",
       "      <td>92888.52</td>\n",
       "      <td>1</td>\n",
       "    </tr>\n",
       "    <tr>\n",
       "      <th>9999</th>\n",
       "      <td>10000</td>\n",
       "      <td>15628319</td>\n",
       "      <td>Walker</td>\n",
       "      <td>792</td>\n",
       "      <td>France</td>\n",
       "      <td>Female</td>\n",
       "      <td>28</td>\n",
       "      <td>4</td>\n",
       "      <td>130142.79</td>\n",
       "      <td>1</td>\n",
       "      <td>1</td>\n",
       "      <td>0</td>\n",
       "      <td>38190.78</td>\n",
       "      <td>0</td>\n",
       "    </tr>\n",
       "  </tbody>\n",
       "</table>\n",
       "<p>10000 rows × 14 columns</p>\n",
       "</div>"
      ],
      "text/plain": [
       "      RowNumber  CustomerId    Surname  CreditScore Geography  Gender  Age  \\\n",
       "0             1    15634602   Hargrave          619    France  Female   42   \n",
       "1             2    15647311       Hill          608     Spain  Female   41   \n",
       "2             3    15619304       Onio          502    France  Female   42   \n",
       "3             4    15701354       Boni          699    France  Female   39   \n",
       "4             5    15737888   Mitchell          850     Spain  Female   43   \n",
       "...         ...         ...        ...          ...       ...     ...  ...   \n",
       "9995       9996    15606229   Obijiaku          771    France    Male   39   \n",
       "9996       9997    15569892  Johnstone          516    France    Male   35   \n",
       "9997       9998    15584532        Liu          709    France  Female   36   \n",
       "9998       9999    15682355  Sabbatini          772   Germany    Male   42   \n",
       "9999      10000    15628319     Walker          792    France  Female   28   \n",
       "\n",
       "      Tenure    Balance  NumOfProducts  HasCrCard  IsActiveMember  \\\n",
       "0          2       0.00              1          1               1   \n",
       "1          1   83807.86              1          0               1   \n",
       "2          8  159660.80              3          1               0   \n",
       "3          1       0.00              2          0               0   \n",
       "4          2  125510.82              1          1               1   \n",
       "...      ...        ...            ...        ...             ...   \n",
       "9995       5       0.00              2          1               0   \n",
       "9996      10   57369.61              1          1               1   \n",
       "9997       7       0.00              1          0               1   \n",
       "9998       3   75075.31              2          1               0   \n",
       "9999       4  130142.79              1          1               0   \n",
       "\n",
       "      EstimatedSalary  Exited  \n",
       "0           101348.88       1  \n",
       "1           112542.58       0  \n",
       "2           113931.57       1  \n",
       "3            93826.63       0  \n",
       "4            79084.10       0  \n",
       "...               ...     ...  \n",
       "9995         96270.64       0  \n",
       "9996        101699.77       0  \n",
       "9997         42085.58       1  \n",
       "9998         92888.52       1  \n",
       "9999         38190.78       0  \n",
       "\n",
       "[10000 rows x 14 columns]"
      ]
     },
     "execution_count": 4,
     "metadata": {},
     "output_type": "execute_result"
    }
   ],
   "source": [
    "df"
   ]
  },
  {
   "cell_type": "code",
   "execution_count": 5,
   "id": "73aaf2a7",
   "metadata": {
    "execution": {
     "iopub.execute_input": "2024-04-09T13:48:14.555031Z",
     "iopub.status.busy": "2024-04-09T13:48:14.554497Z",
     "iopub.status.idle": "2024-04-09T13:48:14.566612Z",
     "shell.execute_reply": "2024-04-09T13:48:14.564761Z"
    },
    "papermill": {
     "duration": 0.026682,
     "end_time": "2024-04-09T13:48:14.570114",
     "exception": false,
     "start_time": "2024-04-09T13:48:14.543432",
     "status": "completed"
    },
    "tags": []
   },
   "outputs": [],
   "source": [
    "df.drop(columns=['RowNumber',\n",
    "                 'CustomerId',\n",
    "                 'Surname'], inplace=True)"
   ]
  },
  {
   "cell_type": "code",
   "execution_count": 6,
   "id": "5170251a",
   "metadata": {
    "execution": {
     "iopub.execute_input": "2024-04-09T13:48:14.593680Z",
     "iopub.status.busy": "2024-04-09T13:48:14.592117Z",
     "iopub.status.idle": "2024-04-09T13:48:14.603994Z",
     "shell.execute_reply": "2024-04-09T13:48:14.602210Z"
    },
    "papermill": {
     "duration": 0.027467,
     "end_time": "2024-04-09T13:48:14.607179",
     "exception": false,
     "start_time": "2024-04-09T13:48:14.579712",
     "status": "completed"
    },
    "tags": []
   },
   "outputs": [
    {
     "data": {
      "text/plain": [
       "2037"
      ]
     },
     "execution_count": 6,
     "metadata": {},
     "output_type": "execute_result"
    }
   ],
   "source": [
    "df[df['Exited'] == 1].__len__()"
   ]
  },
  {
   "cell_type": "code",
   "execution_count": 7,
   "id": "e6c5a251",
   "metadata": {
    "execution": {
     "iopub.execute_input": "2024-04-09T13:48:14.628622Z",
     "iopub.status.busy": "2024-04-09T13:48:14.628137Z",
     "iopub.status.idle": "2024-04-09T13:48:14.650520Z",
     "shell.execute_reply": "2024-04-09T13:48:14.649125Z"
    },
    "papermill": {
     "duration": 0.037285,
     "end_time": "2024-04-09T13:48:14.654127",
     "exception": false,
     "start_time": "2024-04-09T13:48:14.616842",
     "status": "completed"
    },
    "tags": []
   },
   "outputs": [
    {
     "name": "stdout",
     "output_type": "stream",
     "text": [
      "<class 'pandas.core.frame.DataFrame'>\n",
      "RangeIndex: 10000 entries, 0 to 9999\n",
      "Data columns (total 11 columns):\n",
      " #   Column           Non-Null Count  Dtype  \n",
      "---  ------           --------------  -----  \n",
      " 0   CreditScore      10000 non-null  int64  \n",
      " 1   Geography        10000 non-null  object \n",
      " 2   Gender           10000 non-null  object \n",
      " 3   Age              10000 non-null  int64  \n",
      " 4   Tenure           10000 non-null  int64  \n",
      " 5   Balance          10000 non-null  float64\n",
      " 6   NumOfProducts    10000 non-null  int64  \n",
      " 7   HasCrCard        10000 non-null  int64  \n",
      " 8   IsActiveMember   10000 non-null  int64  \n",
      " 9   EstimatedSalary  10000 non-null  float64\n",
      " 10  Exited           10000 non-null  int64  \n",
      "dtypes: float64(2), int64(7), object(2)\n",
      "memory usage: 859.5+ KB\n"
     ]
    },
    {
     "data": {
      "text/plain": [
       "3"
      ]
     },
     "execution_count": 7,
     "metadata": {},
     "output_type": "execute_result"
    }
   ],
   "source": [
    "df.info()\n",
    "df['Geography'].unique().__len__()"
   ]
  },
  {
   "cell_type": "code",
   "execution_count": 8,
   "id": "3875f087",
   "metadata": {
    "execution": {
     "iopub.execute_input": "2024-04-09T13:48:14.678016Z",
     "iopub.status.busy": "2024-04-09T13:48:14.677524Z",
     "iopub.status.idle": "2024-04-09T13:48:14.686724Z",
     "shell.execute_reply": "2024-04-09T13:48:14.685465Z"
    },
    "papermill": {
     "duration": 0.025102,
     "end_time": "2024-04-09T13:48:14.689618",
     "exception": false,
     "start_time": "2024-04-09T13:48:14.664516",
     "status": "completed"
    },
    "tags": []
   },
   "outputs": [],
   "source": [
    "X = df.drop('Exited', axis=1).copy()\n",
    "y = df['Exited'].copy()"
   ]
  },
  {
   "cell_type": "code",
   "execution_count": 9,
   "id": "1170f926",
   "metadata": {
    "execution": {
     "iopub.execute_input": "2024-04-09T13:48:14.711773Z",
     "iopub.status.busy": "2024-04-09T13:48:14.710822Z",
     "iopub.status.idle": "2024-04-09T13:48:14.746779Z",
     "shell.execute_reply": "2024-04-09T13:48:14.745118Z"
    },
    "papermill": {
     "duration": 0.050656,
     "end_time": "2024-04-09T13:48:14.750144",
     "exception": false,
     "start_time": "2024-04-09T13:48:14.699488",
     "status": "completed"
    },
    "tags": []
   },
   "outputs": [
    {
     "data": {
      "text/plain": [
       "(10000, 12)"
      ]
     },
     "execution_count": 9,
     "metadata": {},
     "output_type": "execute_result"
    }
   ],
   "source": [
    "clmt = ColumnTransformer([('StandardScalar', StandardScaler(), ['CreditScore', 'Balance', 'EstimatedSalary', 'Tenure', 'Age']),\n",
    "                          ('Linear', FunctionTransformer(linear), ['NumOfProducts', 'IsActiveMember']),\n",
    "                          ('OneHotEncoding', OneHotEncoder(), ['Geography', 'Gender'])])\n",
    "X_enc = clmt.fit_transform(X)\n",
    "X_enc.shape"
   ]
  },
  {
   "cell_type": "code",
   "execution_count": 10,
   "id": "1618b992",
   "metadata": {
    "execution": {
     "iopub.execute_input": "2024-04-09T13:48:14.774835Z",
     "iopub.status.busy": "2024-04-09T13:48:14.774317Z",
     "iopub.status.idle": "2024-04-09T13:48:14.787219Z",
     "shell.execute_reply": "2024-04-09T13:48:14.785485Z"
    },
    "papermill": {
     "duration": 0.028073,
     "end_time": "2024-04-09T13:48:14.789874",
     "exception": false,
     "start_time": "2024-04-09T13:48:14.761801",
     "status": "completed"
    },
    "tags": []
   },
   "outputs": [
    {
     "name": "stdout",
     "output_type": "stream",
     "text": [
      "1507 7500 530 2500\n"
     ]
    }
   ],
   "source": [
    "X_train, X_test, y_train, y_test = train_test_split(X_enc, y)\n",
    "\n",
    "print(\n",
    "y_train[y_train == 1].__len__(),\n",
    "y_train.__len__(),\n",
    "y_test[y_test == 1].__len__(),\n",
    "y_test.__len__())"
   ]
  },
  {
   "cell_type": "code",
   "execution_count": 11,
   "id": "dd5fb771",
   "metadata": {
    "execution": {
     "iopub.execute_input": "2024-04-09T13:48:14.814759Z",
     "iopub.status.busy": "2024-04-09T13:48:14.813795Z",
     "iopub.status.idle": "2024-04-09T13:48:14.820790Z",
     "shell.execute_reply": "2024-04-09T13:48:14.819052Z"
    },
    "papermill": {
     "duration": 0.023375,
     "end_time": "2024-04-09T13:48:14.824117",
     "exception": false,
     "start_time": "2024-04-09T13:48:14.800742",
     "status": "completed"
    },
    "tags": []
   },
   "outputs": [],
   "source": [
    "reg = LogisticRegression(random_state=69)"
   ]
  },
  {
   "cell_type": "code",
   "execution_count": 12,
   "id": "2634c2c2",
   "metadata": {
    "execution": {
     "iopub.execute_input": "2024-04-09T13:48:14.847350Z",
     "iopub.status.busy": "2024-04-09T13:48:14.846817Z",
     "iopub.status.idle": "2024-04-09T13:48:14.918880Z",
     "shell.execute_reply": "2024-04-09T13:48:14.916818Z"
    },
    "papermill": {
     "duration": 0.089077,
     "end_time": "2024-04-09T13:48:14.923776",
     "exception": false,
     "start_time": "2024-04-09T13:48:14.834699",
     "status": "completed"
    },
    "tags": []
   },
   "outputs": [
    {
     "data": {
      "text/html": [
       "<style>#sk-container-id-1 {color: black;background-color: white;}#sk-container-id-1 pre{padding: 0;}#sk-container-id-1 div.sk-toggleable {background-color: white;}#sk-container-id-1 label.sk-toggleable__label {cursor: pointer;display: block;width: 100%;margin-bottom: 0;padding: 0.3em;box-sizing: border-box;text-align: center;}#sk-container-id-1 label.sk-toggleable__label-arrow:before {content: \"▸\";float: left;margin-right: 0.25em;color: #696969;}#sk-container-id-1 label.sk-toggleable__label-arrow:hover:before {color: black;}#sk-container-id-1 div.sk-estimator:hover label.sk-toggleable__label-arrow:before {color: black;}#sk-container-id-1 div.sk-toggleable__content {max-height: 0;max-width: 0;overflow: hidden;text-align: left;background-color: #f0f8ff;}#sk-container-id-1 div.sk-toggleable__content pre {margin: 0.2em;color: black;border-radius: 0.25em;background-color: #f0f8ff;}#sk-container-id-1 input.sk-toggleable__control:checked~div.sk-toggleable__content {max-height: 200px;max-width: 100%;overflow: auto;}#sk-container-id-1 input.sk-toggleable__control:checked~label.sk-toggleable__label-arrow:before {content: \"▾\";}#sk-container-id-1 div.sk-estimator input.sk-toggleable__control:checked~label.sk-toggleable__label {background-color: #d4ebff;}#sk-container-id-1 div.sk-label input.sk-toggleable__control:checked~label.sk-toggleable__label {background-color: #d4ebff;}#sk-container-id-1 input.sk-hidden--visually {border: 0;clip: rect(1px 1px 1px 1px);clip: rect(1px, 1px, 1px, 1px);height: 1px;margin: -1px;overflow: hidden;padding: 0;position: absolute;width: 1px;}#sk-container-id-1 div.sk-estimator {font-family: monospace;background-color: #f0f8ff;border: 1px dotted black;border-radius: 0.25em;box-sizing: border-box;margin-bottom: 0.5em;}#sk-container-id-1 div.sk-estimator:hover {background-color: #d4ebff;}#sk-container-id-1 div.sk-parallel-item::after {content: \"\";width: 100%;border-bottom: 1px solid gray;flex-grow: 1;}#sk-container-id-1 div.sk-label:hover label.sk-toggleable__label {background-color: #d4ebff;}#sk-container-id-1 div.sk-serial::before {content: \"\";position: absolute;border-left: 1px solid gray;box-sizing: border-box;top: 0;bottom: 0;left: 50%;z-index: 0;}#sk-container-id-1 div.sk-serial {display: flex;flex-direction: column;align-items: center;background-color: white;padding-right: 0.2em;padding-left: 0.2em;position: relative;}#sk-container-id-1 div.sk-item {position: relative;z-index: 1;}#sk-container-id-1 div.sk-parallel {display: flex;align-items: stretch;justify-content: center;background-color: white;position: relative;}#sk-container-id-1 div.sk-item::before, #sk-container-id-1 div.sk-parallel-item::before {content: \"\";position: absolute;border-left: 1px solid gray;box-sizing: border-box;top: 0;bottom: 0;left: 50%;z-index: -1;}#sk-container-id-1 div.sk-parallel-item {display: flex;flex-direction: column;z-index: 1;position: relative;background-color: white;}#sk-container-id-1 div.sk-parallel-item:first-child::after {align-self: flex-end;width: 50%;}#sk-container-id-1 div.sk-parallel-item:last-child::after {align-self: flex-start;width: 50%;}#sk-container-id-1 div.sk-parallel-item:only-child::after {width: 0;}#sk-container-id-1 div.sk-dashed-wrapped {border: 1px dashed gray;margin: 0 0.4em 0.5em 0.4em;box-sizing: border-box;padding-bottom: 0.4em;background-color: white;}#sk-container-id-1 div.sk-label label {font-family: monospace;font-weight: bold;display: inline-block;line-height: 1.2em;}#sk-container-id-1 div.sk-label-container {text-align: center;}#sk-container-id-1 div.sk-container {/* jupyter's `normalize.less` sets `[hidden] { display: none; }` but bootstrap.min.css set `[hidden] { display: none !important; }` so we also need the `!important` here to be able to override the default hidden behavior on the sphinx rendered scikit-learn.org. See: https://github.com/scikit-learn/scikit-learn/issues/21755 */display: inline-block !important;position: relative;}#sk-container-id-1 div.sk-text-repr-fallback {display: none;}</style><div id=\"sk-container-id-1\" class=\"sk-top-container\"><div class=\"sk-text-repr-fallback\"><pre>LogisticRegression(random_state=69)</pre><b>In a Jupyter environment, please rerun this cell to show the HTML representation or trust the notebook. <br />On GitHub, the HTML representation is unable to render, please try loading this page with nbviewer.org.</b></div><div class=\"sk-container\" hidden><div class=\"sk-item\"><div class=\"sk-estimator sk-toggleable\"><input class=\"sk-toggleable__control sk-hidden--visually\" id=\"sk-estimator-id-1\" type=\"checkbox\" checked><label for=\"sk-estimator-id-1\" class=\"sk-toggleable__label sk-toggleable__label-arrow\">LogisticRegression</label><div class=\"sk-toggleable__content\"><pre>LogisticRegression(random_state=69)</pre></div></div></div></div></div>"
      ],
      "text/plain": [
       "LogisticRegression(random_state=69)"
      ]
     },
     "execution_count": 12,
     "metadata": {},
     "output_type": "execute_result"
    }
   ],
   "source": [
    "reg.fit(X_train, y_train)"
   ]
  },
  {
   "cell_type": "code",
   "execution_count": 13,
   "id": "0174d56f",
   "metadata": {
    "execution": {
     "iopub.execute_input": "2024-04-09T13:48:14.972865Z",
     "iopub.status.busy": "2024-04-09T13:48:14.972017Z",
     "iopub.status.idle": "2024-04-09T13:48:14.988247Z",
     "shell.execute_reply": "2024-04-09T13:48:14.985728Z"
    },
    "papermill": {
     "duration": 0.046907,
     "end_time": "2024-04-09T13:48:14.993647",
     "exception": false,
     "start_time": "2024-04-09T13:48:14.946740",
     "status": "completed"
    },
    "tags": []
   },
   "outputs": [],
   "source": [
    "y_pred = reg.predict(X_test)"
   ]
  },
  {
   "cell_type": "code",
   "execution_count": 14,
   "id": "d92ce1fc",
   "metadata": {
    "execution": {
     "iopub.execute_input": "2024-04-09T13:48:15.045372Z",
     "iopub.status.busy": "2024-04-09T13:48:15.044513Z",
     "iopub.status.idle": "2024-04-09T13:48:15.437350Z",
     "shell.execute_reply": "2024-04-09T13:48:15.435852Z"
    },
    "papermill": {
     "duration": 0.422883,
     "end_time": "2024-04-09T13:48:15.440629",
     "exception": false,
     "start_time": "2024-04-09T13:48:15.017746",
     "status": "completed"
    },
    "tags": []
   },
   "outputs": [
    {
     "data": {
      "text/plain": [
       "<sklearn.metrics._plot.confusion_matrix.ConfusionMatrixDisplay at 0x7da4e19b3a90>"
      ]
     },
     "execution_count": 14,
     "metadata": {},
     "output_type": "execute_result"
    },
    {
     "data": {
      "image/png": "[encoded data removed]",
      "text/plain": [
       "<Figure size 640x480 with 2 Axes>"
      ]
     },
     "metadata": {},
     "output_type": "display_data"
    }
   ],
   "source": [
    "cm = confusion_matrix(y_pred, y_test)\n",
    "cmd = ConfusionMatrixDisplay(cm, display_labels = ['Not_Exited', 'Exited'])\n",
    "cmd.plot()"
   ]
  },
  {
   "cell_type": "code",
   "execution_count": 15,
   "id": "19f0502c",
   "metadata": {
    "execution": {
     "iopub.execute_input": "2024-04-09T13:48:15.465883Z",
     "iopub.status.busy": "2024-04-09T13:48:15.464867Z",
     "iopub.status.idle": "2024-04-09T13:48:15.906449Z",
     "shell.execute_reply": "2024-04-09T13:48:15.905032Z"
    },
    "papermill": {
     "duration": 0.457213,
     "end_time": "2024-04-09T13:48:15.909351",
     "exception": false,
     "start_time": "2024-04-09T13:48:15.452138",
     "status": "completed"
    },
    "tags": []
   },
   "outputs": [
    {
     "data": {
      "image/png": "[encoded data removed]",
      "text/plain": [
       "<Figure size 640x480 with 1 Axes>"
      ]
     },
     "metadata": {},
     "output_type": "display_data"
    }
   ],
   "source": [
    "y_scores = cross_val_predict(reg, X_train, y_train, cv=3, method=\"decision_function\")\n",
    "precisions, recalls, thresholds = precision_recall_curve(y_train, y_scores)\n",
    "\n",
    "def plot_precision_recall_vs_threshold(precisions, recalls, thresholds):\n",
    "    plt.plot(thresholds, precisions[:-1], \"b--\", label=\"Precision\")\n",
    "    plt.plot(thresholds, recalls[:-1], \"g-\", label=\"Recall\")\n",
    "\n",
    "plot_precision_recall_vs_threshold(precisions, recalls, thresholds) \n",
    "plt.show()"
   ]
  },
  {
   "cell_type": "code",
   "execution_count": 16,
   "id": "8a32b951",
   "metadata": {
    "execution": {
     "iopub.execute_input": "2024-04-09T13:48:15.936617Z",
     "iopub.status.busy": "2024-04-09T13:48:15.936075Z",
     "iopub.status.idle": "2024-04-09T13:48:16.217504Z",
     "shell.execute_reply": "2024-04-09T13:48:16.215579Z"
    },
    "papermill": {
     "duration": 0.302076,
     "end_time": "2024-04-09T13:48:16.223444",
     "exception": false,
     "start_time": "2024-04-09T13:48:15.921368",
     "status": "completed"
    },
    "tags": []
   },
   "outputs": [
    {
     "data": {
      "image/png": "[encoded data removed]",
      "text/plain": [
       "<Figure size 640x480 with 1 Axes>"
      ]
     },
     "metadata": {},
     "output_type": "display_data"
    }
   ],
   "source": [
    "from sklearn.metrics import roc_curve\n",
    "fpr, tpr, thresholds = roc_curve(y_train, y_scores)\n",
    "\n",
    "def plot_roc_curve(fpr, tpr, label=None):\n",
    "    plt.plot(fpr, tpr, linewidth=2, label=label)\n",
    "    plt.plot([0, 1], [0, 1], 'k--') \n",
    "    \n",
    "plot_roc_curve(fpr, tpr)\n",
    "plt.show()"
   ]
  },
  {
   "cell_type": "code",
   "execution_count": 17,
   "id": "8a5e37fa",
   "metadata": {
    "execution": {
     "iopub.execute_input": "2024-04-09T13:48:16.262449Z",
     "iopub.status.busy": "2024-04-09T13:48:16.261886Z",
     "iopub.status.idle": "2024-04-09T13:48:16.276988Z",
     "shell.execute_reply": "2024-04-09T13:48:16.275421Z"
    },
    "papermill": {
     "duration": 0.037653,
     "end_time": "2024-04-09T13:48:16.280205",
     "exception": false,
     "start_time": "2024-04-09T13:48:16.242552",
     "status": "completed"
    },
    "tags": []
   },
   "outputs": [
    {
     "data": {
      "text/plain": [
       "0.5743589743589743"
      ]
     },
     "execution_count": 17,
     "metadata": {},
     "output_type": "execute_result"
    }
   ],
   "source": [
    "precision_score(y_test, y_pred) "
   ]
  },
  {
   "cell_type": "code",
   "execution_count": 18,
   "id": "7abad0f5",
   "metadata": {
    "execution": {
     "iopub.execute_input": "2024-04-09T13:48:16.312989Z",
     "iopub.status.busy": "2024-04-09T13:48:16.312271Z",
     "iopub.status.idle": "2024-04-09T13:48:16.329769Z",
     "shell.execute_reply": "2024-04-09T13:48:16.327732Z"
    },
    "papermill": {
     "duration": 0.041918,
     "end_time": "2024-04-09T13:48:16.335142",
     "exception": false,
     "start_time": "2024-04-09T13:48:16.293224",
     "status": "completed"
    },
    "tags": []
   },
   "outputs": [
    {
     "data": {
      "text/plain": [
       "0.21132075471698114"
      ]
     },
     "execution_count": 18,
     "metadata": {},
     "output_type": "execute_result"
    }
   ],
   "source": [
    "recall_score(y_test, y_pred) "
   ]
  },
  {
   "cell_type": "code",
   "execution_count": 19,
   "id": "9a87a3de",
   "metadata": {
    "execution": {
     "iopub.execute_input": "2024-04-09T13:48:16.375590Z",
     "iopub.status.busy": "2024-04-09T13:48:16.375056Z",
     "iopub.status.idle": "2024-04-09T13:48:17.039766Z",
     "shell.execute_reply": "2024-04-09T13:48:17.038374Z"
    },
    "papermill": {
     "duration": 0.687,
     "end_time": "2024-04-09T13:48:17.042747",
     "exception": false,
     "start_time": "2024-04-09T13:48:16.355747",
     "status": "completed"
    },
    "tags": []
   },
   "outputs": [
    {
     "name": "stderr",
     "output_type": "stream",
     "text": [
      "/opt/conda/lib/python3.10/site-packages/sklearn/svm/_base.py:1244: ConvergenceWarning: Liblinear failed to converge, increase the number of iterations.\n",
      "  warnings.warn(\n"
     ]
    },
    {
     "data": {
      "text/html": [
       "<style>#sk-container-id-2 {color: black;background-color: white;}#sk-container-id-2 pre{padding: 0;}#sk-container-id-2 div.sk-toggleable {background-color: white;}#sk-container-id-2 label.sk-toggleable__label {cursor: pointer;display: block;width: 100%;margin-bottom: 0;padding: 0.3em;box-sizing: border-box;text-align: center;}#sk-container-id-2 label.sk-toggleable__label-arrow:before {content: \"▸\";float: left;margin-right: 0.25em;color: #696969;}#sk-container-id-2 label.sk-toggleable__label-arrow:hover:before {color: black;}#sk-container-id-2 div.sk-estimator:hover label.sk-toggleable__label-arrow:before {color: black;}#sk-container-id-2 div.sk-toggleable__content {max-height: 0;max-width: 0;overflow: hidden;text-align: left;background-color: #f0f8ff;}#sk-container-id-2 div.sk-toggleable__content pre {margin: 0.2em;color: black;border-radius: 0.25em;background-color: #f0f8ff;}#sk-container-id-2 input.sk-toggleable__control:checked~div.sk-toggleable__content {max-height: 200px;max-width: 100%;overflow: auto;}#sk-container-id-2 input.sk-toggleable__control:checked~label.sk-toggleable__label-arrow:before {content: \"▾\";}#sk-container-id-2 div.sk-estimator input.sk-toggleable__control:checked~label.sk-toggleable__label {background-color: #d4ebff;}#sk-container-id-2 div.sk-label input.sk-toggleable__control:checked~label.sk-toggleable__label {background-color: #d4ebff;}#sk-container-id-2 input.sk-hidden--visually {border: 0;clip: rect(1px 1px 1px 1px);clip: rect(1px, 1px, 1px, 1px);height: 1px;margin: -1px;overflow: hidden;padding: 0;position: absolute;width: 1px;}#sk-container-id-2 div.sk-estimator {font-family: monospace;background-color: #f0f8ff;border: 1px dotted black;border-radius: 0.25em;box-sizing: border-box;margin-bottom: 0.5em;}#sk-container-id-2 div.sk-estimator:hover {background-color: #d4ebff;}#sk-container-id-2 div.sk-parallel-item::after {content: \"\";width: 100%;border-bottom: 1px solid gray;flex-grow: 1;}#sk-container-id-2 div.sk-label:hover label.sk-toggleable__label {background-color: #d4ebff;}#sk-container-id-2 div.sk-serial::before {content: \"\";position: absolute;border-left: 1px solid gray;box-sizing: border-box;top: 0;bottom: 0;left: 50%;z-index: 0;}#sk-container-id-2 div.sk-serial {display: flex;flex-direction: column;align-items: center;background-color: white;padding-right: 0.2em;padding-left: 0.2em;position: relative;}#sk-container-id-2 div.sk-item {position: relative;z-index: 1;}#sk-container-id-2 div.sk-parallel {display: flex;align-items: stretch;justify-content: center;background-color: white;position: relative;}#sk-container-id-2 div.sk-item::before, #sk-container-id-2 div.sk-parallel-item::before {content: \"\";position: absolute;border-left: 1px solid gray;box-sizing: border-box;top: 0;bottom: 0;left: 50%;z-index: -1;}#sk-container-id-2 div.sk-parallel-item {display: flex;flex-direction: column;z-index: 1;position: relative;background-color: white;}#sk-container-id-2 div.sk-parallel-item:first-child::after {align-self: flex-end;width: 50%;}#sk-container-id-2 div.sk-parallel-item:last-child::after {align-self: flex-start;width: 50%;}#sk-container-id-2 div.sk-parallel-item:only-child::after {width: 0;}#sk-container-id-2 div.sk-dashed-wrapped {border: 1px dashed gray;margin: 0 0.4em 0.5em 0.4em;box-sizing: border-box;padding-bottom: 0.4em;background-color: white;}#sk-container-id-2 div.sk-label label {font-family: monospace;font-weight: bold;display: inline-block;line-height: 1.2em;}#sk-container-id-2 div.sk-label-container {text-align: center;}#sk-container-id-2 div.sk-container {/* jupyter's `normalize.less` sets `[hidden] { display: none; }` but bootstrap.min.css set `[hidden] { display: none !important; }` so we also need the `!important` here to be able to override the default hidden behavior on the sphinx rendered scikit-learn.org. See: https://github.com/scikit-learn/scikit-learn/issues/21755 */display: inline-block !important;position: relative;}#sk-container-id-2 div.sk-text-repr-fallback {display: none;}</style><div id=\"sk-container-id-2\" class=\"sk-top-container\"><div class=\"sk-text-repr-fallback\"><pre>LinearSVC(C=100, random_state=42)</pre><b>In a Jupyter environment, please rerun this cell to show the HTML representation or trust the notebook. <br />On GitHub, the HTML representation is unable to render, please try loading this page with nbviewer.org.</b></div><div class=\"sk-container\" hidden><div class=\"sk-item\"><div class=\"sk-estimator sk-toggleable\"><input class=\"sk-toggleable__control sk-hidden--visually\" id=\"sk-estimator-id-2\" type=\"checkbox\" checked><label for=\"sk-estimator-id-2\" class=\"sk-toggleable__label sk-toggleable__label-arrow\">LinearSVC</label><div class=\"sk-toggleable__content\"><pre>LinearSVC(C=100, random_state=42)</pre></div></div></div></div></div>"
      ],
      "text/plain": [
       "LinearSVC(C=100, random_state=42)"
      ]
     },
     "execution_count": 19,
     "metadata": {},
     "output_type": "execute_result"
    }
   ],
   "source": [
    "from sklearn.svm import LinearSVC  \n",
    "svm_clf = LinearSVC(C=100,random_state=42)\n",
    "svm_clf.fit(X_train, y_train)"
   ]
  },
  {
   "cell_type": "code",
   "execution_count": 20,
   "id": "b539cf30",
   "metadata": {
    "execution": {
     "iopub.execute_input": "2024-04-09T13:48:17.071838Z",
     "iopub.status.busy": "2024-04-09T13:48:17.071234Z",
     "iopub.status.idle": "2024-04-09T13:48:17.082125Z",
     "shell.execute_reply": "2024-04-09T13:48:17.080257Z"
    },
    "papermill": {
     "duration": 0.031643,
     "end_time": "2024-04-09T13:48:17.087482",
     "exception": false,
     "start_time": "2024-04-09T13:48:17.055839",
     "status": "completed"
    },
    "tags": []
   },
   "outputs": [],
   "source": [
    "y_pred_1 = svm_clf.predict(X_test)"
   ]
  },
  {
   "cell_type": "code",
   "execution_count": 21,
   "id": "0702f9be",
   "metadata": {
    "execution": {
     "iopub.execute_input": "2024-04-09T13:48:17.165948Z",
     "iopub.status.busy": "2024-04-09T13:48:17.160494Z",
     "iopub.status.idle": "2024-04-09T13:48:17.564548Z",
     "shell.execute_reply": "2024-04-09T13:48:17.562830Z"
    },
    "papermill": {
     "duration": 0.45316,
     "end_time": "2024-04-09T13:48:17.567614",
     "exception": false,
     "start_time": "2024-04-09T13:48:17.114454",
     "status": "completed"
    },
    "tags": []
   },
   "outputs": [
    {
     "data": {
      "text/plain": [
       "<sklearn.metrics._plot.confusion_matrix.ConfusionMatrixDisplay at 0x7da4c03731c0>"
      ]
     },
     "execution_count": 21,
     "metadata": {},
     "output_type": "execute_result"
    },
    {
     "data": {
      "image/png": "[encoded data removed]",
      "text/plain": [
       "<Figure size 640x480 with 2 Axes>"
      ]
     },
     "metadata": {},
     "output_type": "display_data"
    }
   ],
   "source": [
    "cm_s = confusion_matrix(y_pred_1, y_test)\n",
    "cmd_s = ConfusionMatrixDisplay(cm_s, display_labels = ['Not_Exited', 'Exited'])\n",
    "cmd_s.plot()"
   ]
  },
  {
   "cell_type": "code",
   "execution_count": 22,
   "id": "a5f0c67f",
   "metadata": {
    "execution": {
     "iopub.execute_input": "2024-04-09T13:48:17.599528Z",
     "iopub.status.busy": "2024-04-09T13:48:17.598680Z",
     "iopub.status.idle": "2024-04-09T13:48:17.612560Z",
     "shell.execute_reply": "2024-04-09T13:48:17.611123Z"
    },
    "papermill": {
     "duration": 0.033038,
     "end_time": "2024-04-09T13:48:17.615567",
     "exception": false,
     "start_time": "2024-04-09T13:48:17.582529",
     "status": "completed"
    },
    "tags": []
   },
   "outputs": [
    {
     "data": {
      "text/plain": [
       "0.38065194532071506"
      ]
     },
     "execution_count": 22,
     "metadata": {},
     "output_type": "execute_result"
    }
   ],
   "source": [
    "precision_score(y_test, y_pred_1) "
   ]
  },
  {
   "cell_type": "code",
   "execution_count": 23,
   "id": "7a3fc8a2",
   "metadata": {
    "execution": {
     "iopub.execute_input": "2024-04-09T13:48:17.647226Z",
     "iopub.status.busy": "2024-04-09T13:48:17.646408Z",
     "iopub.status.idle": "2024-04-09T13:48:17.659947Z",
     "shell.execute_reply": "2024-04-09T13:48:17.659008Z"
    },
    "papermill": {
     "duration": 0.032433,
     "end_time": "2024-04-09T13:48:17.662512",
     "exception": false,
     "start_time": "2024-04-09T13:48:17.630079",
     "status": "completed"
    },
    "tags": []
   },
   "outputs": [
    {
     "data": {
      "text/plain": [
       "0.6830188679245283"
      ]
     },
     "execution_count": 23,
     "metadata": {},
     "output_type": "execute_result"
    }
   ],
   "source": [
    "recall_score(y_test, y_pred_1) "
   ]
  },
  {
   "cell_type": "code",
   "execution_count": null,
   "id": "86230812",
   "metadata": {
    "papermill": {
     "duration": 0.013272,
     "end_time": "2024-04-09T13:48:17.690062",
     "exception": false,
     "start_time": "2024-04-09T13:48:17.676790",
     "status": "completed"
    },
    "tags": []
   },
   "outputs": [],
   "source": []
  }
 ],
 "metadata": {
  "kaggle": {
   "accelerator": "none",
   "dataSources": [
    {
     "datasetId": 4649694,
     "sourceId": 7913901,
     "sourceType": "datasetVersion"
    }
   ],
   "dockerImageVersionId": 30684,
   "isGpuEnabled": false,
   "isInternetEnabled": false,
   "language": "python",
   "sourceType": "notebook"
  },
  "kernelspec": {
   "display_name": "Python 3",
   "language": "python",
   "name": "python3"
  },
  "language_info": {
   "codemirror_mode": {
    "name": "ipython",
    "version": 3
   },
   "file_extension": ".py",
   "mimetype": "text/x-python",
   "name": "python",
   "nbconvert_exporter": "python",
   "pygments_lexer": "ipython3",
   "version": "3.10.13"
  },
  "papermill": {
   "default_parameters": {},
   "duration": 11.480498,
   "end_time": "2024-04-09T13:48:18.629435",
   "environment_variables": {},
   "exception": null,
   "input_path": "__notebook__.ipynb",
   "output_path": "__notebook__.ipynb",
   "parameters": {},
   "start_time": "2024-04-09T13:48:07.148937",
   "version": "2.5.0"
  }
 },
 "nbformat": 4,
 "nbformat_minor": 5
}
